{
  "nbformat": 4,
  "nbformat_minor": 0,
  "metadata": {
    "colab": {
      "provenance": [],
      "gpuType": "T4"
    },
    "kernelspec": {
      "name": "python3",
      "display_name": "Python 3"
    },
    "language_info": {
      "name": "python"
    },
    "accelerator": "GPU"
  },
  "cells": [
    {
      "cell_type": "markdown",
      "source": [
        "#Course: Deep Learning\n",
        "#Program: MBA Tech AI\n",
        "#Sem: V\n",
        "# Academic Year: 2023-24\n",
        "# Instructor: Dr.Radhika Chapaneri\n",
        "# Experiment No: 8\n",
        "\n",
        "#Roll No: R046\n",
        "#Name: Tungishsanjay Sankar\n",
        "#Batch : B2\n",
        "#Date of Experiment: 12-10-2023\n",
        "\n",
        "\n",
        "\n"
      ],
      "metadata": {
        "id": "YR45fKIrk-Ud"
      }
    },
    {
      "cell_type": "code",
      "execution_count": null,
      "metadata": {
        "id": "mrQTrj6tUnr1"
      },
      "outputs": [],
      "source": [
        "import numpy as np\n",
        "import pandas as pd\n",
        "import tensorflow as tf\n",
        "import keras\n",
        "import matplotlib.pyplot as plt\n",
        "from sklearn.model_selection import train_test_split\n",
        "from keras.utils import to_categorical"
      ]
    },
    {
      "cell_type": "code",
      "source": [
        "# Load the fashion-mnist pre-shuffled train data and test data\n",
        "(X_train, Y_train), (X_test,Y_test) = tf.keras.datasets.fashion_mnist.load_data()"
      ],
      "metadata": {
        "colab": {
          "base_uri": "https://localhost:8080/"
        },
        "id": "1D3PbY6PUx5-",
        "outputId": "8ce36397-d940-4d02-e084-be7fd0efcd9c"
      },
      "execution_count": null,
      "outputs": [
        {
          "output_type": "stream",
          "name": "stdout",
          "text": [
            "Downloading data from https://storage.googleapis.com/tensorflow/tf-keras-datasets/train-labels-idx1-ubyte.gz\n",
            "29515/29515 [==============================] - 0s 0us/step\n",
            "Downloading data from https://storage.googleapis.com/tensorflow/tf-keras-datasets/train-images-idx3-ubyte.gz\n",
            "26421880/26421880 [==============================] - 0s 0us/step\n",
            "Downloading data from https://storage.googleapis.com/tensorflow/tf-keras-datasets/t10k-labels-idx1-ubyte.gz\n",
            "5148/5148 [==============================] - 0s 0us/step\n",
            "Downloading data from https://storage.googleapis.com/tensorflow/tf-keras-datasets/t10k-images-idx3-ubyte.gz\n",
            "4422102/4422102 [==============================] - 0s 0us/step\n"
          ]
        }
      ]
    },
    {
      "cell_type": "code",
      "source": [
        "X_train.shape"
      ],
      "metadata": {
        "colab": {
          "base_uri": "https://localhost:8080/"
        },
        "id": "9pahovKMUzl-",
        "outputId": "0873869d-282a-47d2-99fb-9940c0ecedd1"
      },
      "execution_count": null,
      "outputs": [
        {
          "output_type": "execute_result",
          "data": {
            "text/plain": [
              "(60000, 28, 28)"
            ]
          },
          "metadata": {},
          "execution_count": 3
        }
      ]
    },
    {
      "cell_type": "code",
      "source": [
        "img_rows, img_cols = 28,28"
      ],
      "metadata": {
        "id": "fztPdm-kU1uW"
      },
      "execution_count": null,
      "outputs": []
    },
    {
      "cell_type": "code",
      "source": [
        "#cNN\n",
        "X_train_cnn = X_train.reshape(X_train.shape[0],img_rows,img_cols,1)\n",
        "Y_train_cnn_1 = Y_train"
      ],
      "metadata": {
        "id": "WhKC5Fb9U4G2"
      },
      "execution_count": null,
      "outputs": []
    },
    {
      "cell_type": "code",
      "source": [
        "X_test_cnn = X_test.reshape(X_test.shape[0],img_rows,img_cols,1)\n",
        "Y_test_cnn_1 = Y_test"
      ],
      "metadata": {
        "id": "pxTSVXuFU6NO"
      },
      "execution_count": null,
      "outputs": []
    },
    {
      "cell_type": "code",
      "source": [
        "X_train_cnn.shape"
      ],
      "metadata": {
        "colab": {
          "base_uri": "https://localhost:8080/"
        },
        "id": "7FOq_7rkU7vu",
        "outputId": "b569f6c5-51ef-446d-d1e3-237701d9b296"
      },
      "execution_count": null,
      "outputs": [
        {
          "output_type": "execute_result",
          "data": {
            "text/plain": [
              "(60000, 28, 28, 1)"
            ]
          },
          "metadata": {},
          "execution_count": 7
        }
      ]
    },
    {
      "cell_type": "code",
      "source": [
        "print(\"X_train shape:\", X_train.shape, \"Y_train shape:\", Y_train.shape)"
      ],
      "metadata": {
        "colab": {
          "base_uri": "https://localhost:8080/"
        },
        "id": "xtC4BchNU9Tl",
        "outputId": "e3cf7b49-d2e8-4115-edd5-c71ce4b3ae19"
      },
      "execution_count": null,
      "outputs": [
        {
          "output_type": "stream",
          "name": "stdout",
          "text": [
            "X_train shape: (60000, 28, 28) Y_train shape: (60000,)\n"
          ]
        }
      ]
    },
    {
      "cell_type": "code",
      "source": [
        "fashion_mnist_labels = [\"T-shirt/top\", #index 0\n",
        "                        \"Trouser\",\n",
        "                        \"Pullover\",\n",
        "                        \"Dress\",\n",
        "                        \"Coat\",\n",
        "                        \"Sandal\",\n",
        "                        \"Shirt\",\n",
        "                        \"Sneaker\",\n",
        "                        \"Bag\",\n",
        "                        \"Ankle boot\"]\n"
      ],
      "metadata": {
        "id": "0D3uilJTU_zu"
      },
      "execution_count": null,
      "outputs": []
    },
    {
      "cell_type": "code",
      "source": [
        "X_train_cnn = X_train_cnn.astype('float32')\n",
        "X_test_cnn = X_test_cnn.astype('float32')\n",
        "X_train_cnn /= 255\n",
        "X_test_cnn /=255"
      ],
      "metadata": {
        "id": "ewPLvP43VBVV"
      },
      "execution_count": null,
      "outputs": []
    },
    {
      "cell_type": "code",
      "source": [
        "num_classes = 10\n",
        "\n",
        "Y_train_cnn = keras.utils.to_categorical(Y_train_cnn_1, num_classes)\n",
        "\n",
        "Y_test_cnn = keras.utils.to_categorical(Y_test_cnn_1, num_classes)"
      ],
      "metadata": {
        "id": "izy1C3X-VHDo"
      },
      "execution_count": null,
      "outputs": []
    },
    {
      "cell_type": "code",
      "source": [
        "Y_train_cnn[:5,:]"
      ],
      "metadata": {
        "colab": {
          "base_uri": "https://localhost:8080/"
        },
        "id": "L11o9QHyVJiK",
        "outputId": "bbafdda8-c5aa-4011-b02b-e6b3cba2aedd"
      },
      "execution_count": null,
      "outputs": [
        {
          "output_type": "execute_result",
          "data": {
            "text/plain": [
              "array([[0., 0., 0., 0., 0., 0., 0., 0., 0., 1.],\n",
              "       [1., 0., 0., 0., 0., 0., 0., 0., 0., 0.],\n",
              "       [1., 0., 0., 0., 0., 0., 0., 0., 0., 0.],\n",
              "       [0., 0., 0., 1., 0., 0., 0., 0., 0., 0.],\n",
              "       [1., 0., 0., 0., 0., 0., 0., 0., 0., 0.]], dtype=float32)"
            ]
          },
          "metadata": {},
          "execution_count": 12
        }
      ]
    },
    {
      "cell_type": "code",
      "source": [
        "X_train_cnn, X_val_cnn, Y_train_cnn, Y_val_cnn = train_test_split(X_train_cnn,\n",
        "                                                                  Y_train_cnn,\n",
        "                                                                  test_size=0.2)"
      ],
      "metadata": {
        "id": "MCsuuRXfVLch"
      },
      "execution_count": null,
      "outputs": []
    },
    {
      "cell_type": "code",
      "source": [
        "print(X_train_cnn.shape)\n",
        "print(X_val_cnn.shape)\n",
        "print(X_test_cnn.shape)"
      ],
      "metadata": {
        "colab": {
          "base_uri": "https://localhost:8080/"
        },
        "id": "HFCfiZRIVNTw",
        "outputId": "ade5542f-67cc-4d21-d6a5-ccb6b9a03081"
      },
      "execution_count": null,
      "outputs": [
        {
          "output_type": "stream",
          "name": "stdout",
          "text": [
            "(48000, 28, 28, 1)\n",
            "(12000, 28, 28, 1)\n",
            "(10000, 28, 28, 1)\n"
          ]
        }
      ]
    },
    {
      "cell_type": "code",
      "source": [
        "print(Y_train_cnn.shape)\n",
        "print(Y_val_cnn.shape)\n",
        "print(Y_test_cnn.shape)"
      ],
      "metadata": {
        "colab": {
          "base_uri": "https://localhost:8080/"
        },
        "id": "LEnFOCa8VPfp",
        "outputId": "05215ad7-1c18-4db2-ed3d-a1248e54e3d1"
      },
      "execution_count": null,
      "outputs": [
        {
          "output_type": "stream",
          "name": "stdout",
          "text": [
            "(48000, 10)\n",
            "(12000, 10)\n",
            "(10000, 10)\n"
          ]
        }
      ]
    },
    {
      "cell_type": "code",
      "source": [
        "from keras.models import Sequential\n",
        "from keras.layers import Dense, Dropout, Flatten\n",
        "from keras.layers import Conv2D, MaxPooling2D"
      ],
      "metadata": {
        "id": "fHfhRqWAYb8p"
      },
      "execution_count": null,
      "outputs": []
    },
    {
      "cell_type": "code",
      "source": [
        "input_shape=(img_rows,img_cols,1)"
      ],
      "metadata": {
        "id": "wzHTu5THcZ-Y"
      },
      "execution_count": null,
      "outputs": []
    },
    {
      "cell_type": "code",
      "source": [
        "model_cnn = Sequential()"
      ],
      "metadata": {
        "id": "ME-IQX36hNcx"
      },
      "execution_count": null,
      "outputs": []
    },
    {
      "cell_type": "code",
      "source": [
        "model_cnn.add(Conv2D(32, (3,3), activation='relu',kernel_initializer='normal', input_shape=input_shape))\n",
        "model_cnn.add(MaxPooling2D((2,2)))\n",
        "model_cnn.add(Dropout(0.25))"
      ],
      "metadata": {
        "id": "CpTw33TqhaYa"
      },
      "execution_count": null,
      "outputs": []
    },
    {
      "cell_type": "code",
      "source": [
        "model_cnn.add(Conv2D(64, (3,3), activation='relu'))\n",
        "model_cnn.add(MaxPooling2D((2,2)))\n",
        "model_cnn.add(Dropout(0.25))"
      ],
      "metadata": {
        "id": "Zr33Ai7ziCP6"
      },
      "execution_count": null,
      "outputs": []
    },
    {
      "cell_type": "code",
      "source": [
        "model_cnn.add(Conv2D(128, (3,3), activation='relu'))\n",
        "model_cnn.add(Dropout(0.4))"
      ],
      "metadata": {
        "id": "kIuG07CQi1_y"
      },
      "execution_count": null,
      "outputs": []
    },
    {
      "cell_type": "code",
      "source": [
        "model_cnn.add(Flatten())"
      ],
      "metadata": {
        "id": "o536ZTNujICp"
      },
      "execution_count": null,
      "outputs": []
    },
    {
      "cell_type": "code",
      "source": [
        "model_cnn.add(Dense(128, activation='relu'))\n",
        "model_cnn.add(Dropout(0.3))"
      ],
      "metadata": {
        "id": "PwREwb1NjKqa"
      },
      "execution_count": null,
      "outputs": []
    },
    {
      "cell_type": "code",
      "source": [
        "model_cnn.add(Dense(num_classes, activation='softmax'))"
      ],
      "metadata": {
        "id": "vp-ZyqLyjM97"
      },
      "execution_count": null,
      "outputs": []
    },
    {
      "cell_type": "code",
      "source": [
        "model_cnn.compile(loss=keras.losses.categorical_crossentropy,\n",
        "                  optimizer=keras.optimizers.Adam(),\n",
        "                  metrics=['accuracy'])"
      ],
      "metadata": {
        "id": "_XUGX8FmjkIz"
      },
      "execution_count": null,
      "outputs": []
    },
    {
      "cell_type": "code",
      "source": [
        "model_cnn.summary()"
      ],
      "metadata": {
        "colab": {
          "base_uri": "https://localhost:8080/"
        },
        "id": "0O5BoCs1j2lU",
        "outputId": "a50541a9-7bb0-403d-b48f-cae47e1fd29a"
      },
      "execution_count": null,
      "outputs": [
        {
          "output_type": "stream",
          "name": "stdout",
          "text": [
            "Model: \"sequential\"\n",
            "_________________________________________________________________\n",
            " Layer (type)                Output Shape              Param #   \n",
            "=================================================================\n",
            " conv2d (Conv2D)             (None, 26, 26, 32)        320       \n",
            "                                                                 \n",
            " max_pooling2d (MaxPooling2  (None, 13, 13, 32)        0         \n",
            " D)                                                              \n",
            "                                                                 \n",
            " dropout (Dropout)           (None, 13, 13, 32)        0         \n",
            "                                                                 \n",
            " conv2d_1 (Conv2D)           (None, 11, 11, 64)        18496     \n",
            "                                                                 \n",
            " max_pooling2d_1 (MaxPoolin  (None, 5, 5, 64)          0         \n",
            " g2D)                                                            \n",
            "                                                                 \n",
            " dropout_1 (Dropout)         (None, 5, 5, 64)          0         \n",
            "                                                                 \n",
            " conv2d_2 (Conv2D)           (None, 3, 3, 128)         73856     \n",
            "                                                                 \n",
            " dropout_2 (Dropout)         (None, 3, 3, 128)         0         \n",
            "                                                                 \n",
            " flatten (Flatten)           (None, 1152)              0         \n",
            "                                                                 \n",
            " dense (Dense)               (None, 128)               147584    \n",
            "                                                                 \n",
            " dropout_3 (Dropout)         (None, 128)               0         \n",
            "                                                                 \n",
            " dense_1 (Dense)             (None, 10)                1290      \n",
            "                                                                 \n",
            "=================================================================\n",
            "Total params: 241546 (943.54 KB)\n",
            "Trainable params: 241546 (943.54 KB)\n",
            "Non-trainable params: 0 (0.00 Byte)\n",
            "_________________________________________________________________\n"
          ]
        }
      ]
    },
    {
      "cell_type": "code",
      "source": [
        "history=model_cnn.fit(X_train_cnn, Y_train_cnn,\n",
        "                  batch_size=256,\n",
        "                  epochs=50,\n",
        "                  verbose=1, #Output after all epochs\n",
        "                  validation_data=(X_val_cnn, Y_val_cnn))"
      ],
      "metadata": {
        "colab": {
          "base_uri": "https://localhost:8080/"
        },
        "id": "iWDnmjtAkzqB",
        "outputId": "275cad24-d6e1-4743-8cc1-90f185bf50e8"
      },
      "execution_count": null,
      "outputs": [
        {
          "output_type": "stream",
          "name": "stdout",
          "text": [
            "Epoch 1/50\n",
            "188/188 [==============================] - 17s 12ms/step - loss: 0.8955 - accuracy: 0.6616 - val_loss: 0.5476 - val_accuracy: 0.7876\n",
            "Epoch 2/50\n",
            "188/188 [==============================] - 2s 9ms/step - loss: 0.5540 - accuracy: 0.7931 - val_loss: 0.4604 - val_accuracy: 0.8254\n",
            "Epoch 3/50\n",
            "188/188 [==============================] - 2s 9ms/step - loss: 0.4791 - accuracy: 0.8199 - val_loss: 0.3939 - val_accuracy: 0.8525\n",
            "Epoch 4/50\n",
            "188/188 [==============================] - 2s 9ms/step - loss: 0.4351 - accuracy: 0.8385 - val_loss: 0.3680 - val_accuracy: 0.8627\n",
            "Epoch 5/50\n",
            "188/188 [==============================] - 2s 9ms/step - loss: 0.3984 - accuracy: 0.8540 - val_loss: 0.3360 - val_accuracy: 0.8737\n",
            "Epoch 6/50\n",
            "188/188 [==============================] - 2s 10ms/step - loss: 0.3761 - accuracy: 0.8620 - val_loss: 0.3238 - val_accuracy: 0.8797\n",
            "Epoch 7/50\n",
            "188/188 [==============================] - 2s 9ms/step - loss: 0.3624 - accuracy: 0.8679 - val_loss: 0.3079 - val_accuracy: 0.8857\n",
            "Epoch 8/50\n",
            "188/188 [==============================] - 2s 8ms/step - loss: 0.3450 - accuracy: 0.8735 - val_loss: 0.2952 - val_accuracy: 0.8889\n",
            "Epoch 9/50\n",
            "188/188 [==============================] - 2s 9ms/step - loss: 0.3300 - accuracy: 0.8780 - val_loss: 0.2947 - val_accuracy: 0.8910\n",
            "Epoch 10/50\n",
            "188/188 [==============================] - 2s 9ms/step - loss: 0.3177 - accuracy: 0.8821 - val_loss: 0.2769 - val_accuracy: 0.8990\n",
            "Epoch 11/50\n",
            "188/188 [==============================] - 2s 9ms/step - loss: 0.3095 - accuracy: 0.8874 - val_loss: 0.2700 - val_accuracy: 0.8975\n",
            "Epoch 12/50\n",
            "188/188 [==============================] - 2s 10ms/step - loss: 0.2998 - accuracy: 0.8905 - val_loss: 0.2632 - val_accuracy: 0.9029\n",
            "Epoch 13/50\n",
            "188/188 [==============================] - 2s 9ms/step - loss: 0.2953 - accuracy: 0.8915 - val_loss: 0.2647 - val_accuracy: 0.9001\n",
            "Epoch 14/50\n",
            "188/188 [==============================] - 2s 9ms/step - loss: 0.2850 - accuracy: 0.8943 - val_loss: 0.2591 - val_accuracy: 0.9034\n",
            "Epoch 15/50\n",
            "188/188 [==============================] - 2s 9ms/step - loss: 0.2861 - accuracy: 0.8957 - val_loss: 0.2592 - val_accuracy: 0.9022\n",
            "Epoch 16/50\n",
            "188/188 [==============================] - 2s 9ms/step - loss: 0.2747 - accuracy: 0.8989 - val_loss: 0.2490 - val_accuracy: 0.9074\n",
            "Epoch 17/50\n",
            "188/188 [==============================] - 2s 9ms/step - loss: 0.2719 - accuracy: 0.8986 - val_loss: 0.2423 - val_accuracy: 0.9116\n",
            "Epoch 18/50\n",
            "188/188 [==============================] - 2s 9ms/step - loss: 0.2621 - accuracy: 0.9032 - val_loss: 0.2429 - val_accuracy: 0.9087\n",
            "Epoch 19/50\n",
            "188/188 [==============================] - 2s 10ms/step - loss: 0.2597 - accuracy: 0.9040 - val_loss: 0.2388 - val_accuracy: 0.9112\n",
            "Epoch 20/50\n",
            "188/188 [==============================] - 2s 9ms/step - loss: 0.2537 - accuracy: 0.9057 - val_loss: 0.2366 - val_accuracy: 0.9126\n",
            "Epoch 21/50\n",
            "188/188 [==============================] - 2s 9ms/step - loss: 0.2496 - accuracy: 0.9081 - val_loss: 0.2484 - val_accuracy: 0.9072\n",
            "Epoch 22/50\n",
            "188/188 [==============================] - 2s 9ms/step - loss: 0.2459 - accuracy: 0.9088 - val_loss: 0.2379 - val_accuracy: 0.9134\n",
            "Epoch 23/50\n",
            "188/188 [==============================] - 2s 9ms/step - loss: 0.2445 - accuracy: 0.9098 - val_loss: 0.2424 - val_accuracy: 0.9097\n",
            "Epoch 24/50\n",
            "188/188 [==============================] - 2s 9ms/step - loss: 0.2420 - accuracy: 0.9091 - val_loss: 0.2315 - val_accuracy: 0.9152\n",
            "Epoch 25/50\n",
            "188/188 [==============================] - 2s 9ms/step - loss: 0.2362 - accuracy: 0.9115 - val_loss: 0.2355 - val_accuracy: 0.9121\n",
            "Epoch 26/50\n",
            "188/188 [==============================] - 3s 17ms/step - loss: 0.2358 - accuracy: 0.9118 - val_loss: 0.2293 - val_accuracy: 0.9146\n",
            "Epoch 27/50\n",
            "188/188 [==============================] - 2s 9ms/step - loss: 0.2284 - accuracy: 0.9147 - val_loss: 0.2250 - val_accuracy: 0.9168\n",
            "Epoch 28/50\n",
            "188/188 [==============================] - 2s 9ms/step - loss: 0.2269 - accuracy: 0.9160 - val_loss: 0.2279 - val_accuracy: 0.9159\n",
            "Epoch 29/50\n",
            "188/188 [==============================] - 2s 9ms/step - loss: 0.2245 - accuracy: 0.9168 - val_loss: 0.2245 - val_accuracy: 0.9170\n",
            "Epoch 30/50\n",
            "188/188 [==============================] - 2s 9ms/step - loss: 0.2234 - accuracy: 0.9161 - val_loss: 0.2246 - val_accuracy: 0.9169\n",
            "Epoch 31/50\n",
            "188/188 [==============================] - 2s 9ms/step - loss: 0.2209 - accuracy: 0.9170 - val_loss: 0.2190 - val_accuracy: 0.9201\n",
            "Epoch 32/50\n",
            "188/188 [==============================] - 2s 9ms/step - loss: 0.2207 - accuracy: 0.9171 - val_loss: 0.2266 - val_accuracy: 0.9146\n",
            "Epoch 33/50\n",
            "188/188 [==============================] - 2s 9ms/step - loss: 0.2226 - accuracy: 0.9163 - val_loss: 0.2215 - val_accuracy: 0.9197\n",
            "Epoch 34/50\n",
            "188/188 [==============================] - 2s 9ms/step - loss: 0.2137 - accuracy: 0.9190 - val_loss: 0.2143 - val_accuracy: 0.9220\n",
            "Epoch 35/50\n",
            "188/188 [==============================] - 2s 9ms/step - loss: 0.2158 - accuracy: 0.9195 - val_loss: 0.2138 - val_accuracy: 0.9206\n",
            "Epoch 36/50\n",
            "188/188 [==============================] - 2s 9ms/step - loss: 0.2137 - accuracy: 0.9196 - val_loss: 0.2226 - val_accuracy: 0.9166\n",
            "Epoch 37/50\n",
            "188/188 [==============================] - 2s 9ms/step - loss: 0.2080 - accuracy: 0.9225 - val_loss: 0.2177 - val_accuracy: 0.9208\n",
            "Epoch 38/50\n",
            "188/188 [==============================] - 2s 9ms/step - loss: 0.2079 - accuracy: 0.9220 - val_loss: 0.2189 - val_accuracy: 0.9212\n",
            "Epoch 39/50\n",
            "188/188 [==============================] - 2s 9ms/step - loss: 0.2048 - accuracy: 0.9227 - val_loss: 0.2151 - val_accuracy: 0.9224\n",
            "Epoch 40/50\n",
            "188/188 [==============================] - 2s 10ms/step - loss: 0.2027 - accuracy: 0.9237 - val_loss: 0.2179 - val_accuracy: 0.9213\n",
            "Epoch 41/50\n",
            "188/188 [==============================] - 2s 9ms/step - loss: 0.1997 - accuracy: 0.9248 - val_loss: 0.2204 - val_accuracy: 0.9212\n",
            "Epoch 42/50\n",
            "188/188 [==============================] - 2s 9ms/step - loss: 0.2000 - accuracy: 0.9253 - val_loss: 0.2165 - val_accuracy: 0.9217\n",
            "Epoch 43/50\n",
            "188/188 [==============================] - 2s 9ms/step - loss: 0.1995 - accuracy: 0.9258 - val_loss: 0.2209 - val_accuracy: 0.9173\n",
            "Epoch 44/50\n",
            "188/188 [==============================] - 2s 9ms/step - loss: 0.2007 - accuracy: 0.9239 - val_loss: 0.2166 - val_accuracy: 0.9209\n",
            "Epoch 45/50\n",
            "188/188 [==============================] - 2s 9ms/step - loss: 0.1975 - accuracy: 0.9254 - val_loss: 0.2182 - val_accuracy: 0.9184\n",
            "Epoch 46/50\n",
            "188/188 [==============================] - 2s 9ms/step - loss: 0.1957 - accuracy: 0.9264 - val_loss: 0.2094 - val_accuracy: 0.9219\n",
            "Epoch 47/50\n",
            "188/188 [==============================] - 2s 10ms/step - loss: 0.1950 - accuracy: 0.9267 - val_loss: 0.2158 - val_accuracy: 0.9197\n",
            "Epoch 48/50\n",
            "188/188 [==============================] - 2s 10ms/step - loss: 0.1937 - accuracy: 0.9266 - val_loss: 0.2126 - val_accuracy: 0.9216\n",
            "Epoch 49/50\n",
            "188/188 [==============================] - 2s 9ms/step - loss: 0.1885 - accuracy: 0.9276 - val_loss: 0.2173 - val_accuracy: 0.9209\n",
            "Epoch 50/50\n",
            "188/188 [==============================] - 2s 9ms/step - loss: 0.1908 - accuracy: 0.9271 - val_loss: 0.2227 - val_accuracy: 0.9195\n"
          ]
        }
      ]
    },
    {
      "cell_type": "code",
      "source": [
        "score = model_cnn.evaluate(X_test_cnn,Y_test_cnn, verbose = 1)\n",
        "print()\n",
        "print('MLP Test Loss: ', score[0])\n",
        "print('MLP Test Accuracy: ', score[1])"
      ],
      "metadata": {
        "colab": {
          "base_uri": "https://localhost:8080/"
        },
        "id": "b-EbP8XFlKMi",
        "outputId": "e73db1ba-2ac4-4bd8-8ebd-b7ff4db855f4"
      },
      "execution_count": null,
      "outputs": [
        {
          "output_type": "stream",
          "name": "stdout",
          "text": [
            "313/313 [==============================] - 1s 3ms/step - loss: 0.2375 - accuracy: 0.9144\n",
            "\n",
            "MLP Test Loss:  0.23745398223400116\n",
            "MLP Test Accuracy:  0.9143999814987183\n"
          ]
        }
      ]
    },
    {
      "cell_type": "code",
      "source": [
        "# summarize history for accuracy\n",
        "plt.plot(history.history['accuracy'])\n",
        "plt.plot(history.history['val_accuracy'])\n",
        "plt.title('model accuracy')\n",
        "plt.ylabel('accuracy')\n",
        "plt.xlabel('epoch')\n",
        "plt.legend(['train', 'test'], loc='upper left')\n",
        "plt.show()"
      ],
      "metadata": {
        "colab": {
          "base_uri": "https://localhost:8080/",
          "height": 472
        },
        "id": "d2ygAQVej5MU",
        "outputId": "e264c257-b78e-45ba-b640-1a5c6591529d"
      },
      "execution_count": null,
      "outputs": [
        {
          "output_type": "display_data",
          "data": {
            "text/plain": [
              "<Figure size 640x480 with 1 Axes>"
            ],
            "image/png": "[encoded data removed]"
          },
          "metadata": {}
        }
      ]
    },
    {
      "cell_type": "code",
      "source": [
        "# summarize history for loss\n",
        "plt.plot(history.history['loss'])\n",
        "plt.plot(history.history['val_loss'])\n",
        "plt.title('model loss')\n",
        "plt.ylabel('loss')\n",
        "plt.xlabel('epoch')\n",
        "plt.legend(['train', 'test'], loc='upper left')\n",
        "plt.show()"
      ],
      "metadata": {
        "colab": {
          "base_uri": "https://localhost:8080/",
          "height": 472
        },
        "id": "FyTm13q1keXI",
        "outputId": "9862bcef-9d83-4736-a40a-b5b1805e80df"
      },
      "execution_count": null,
      "outputs": [
        {
          "output_type": "display_data",
          "data": {
            "text/plain": [
              "<Figure size 640x480 with 1 Axes>"
            ],
            "image/png": "[encoded data removed]"
          },
          "metadata": {}
        }
      ]
    },
    {
      "cell_type": "code",
      "source": [],
      "metadata": {
        "id": "gR67xw4tkev2"
      },
      "execution_count": null,
      "outputs": []
    }
  ]
}