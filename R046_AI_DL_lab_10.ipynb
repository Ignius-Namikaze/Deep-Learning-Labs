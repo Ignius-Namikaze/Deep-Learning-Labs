{
  "nbformat": 4,
  "nbformat_minor": 0,
  "metadata": {
    "colab": {
      "provenance": []
    },
    "kernelspec": {
      "name": "python3",
      "display_name": "Python 3"
    },
    "language_info": {
      "name": "python"
    }
  },
  "cells": [
    {
      "cell_type": "code",
      "execution_count": null,
      "metadata": {
        "id": "Z23GLBB-1rd-"
      },
      "outputs": [],
      "source": [
        "import pandas as pd\n",
        "df = pd.read_csv('NSE-TATAGLOBAL.csv')"
      ]
    },
    {
      "cell_type": "code",
      "source": [
        "#df.head()"
      ],
      "metadata": {
        "id": "B0lXgFfuAHyw"
      },
      "execution_count": null,
      "outputs": []
    },
    {
      "cell_type": "code",
      "source": [
        "train_data = df.iloc[:,1:2]"
      ],
      "metadata": {
        "id": "Z-VKvL7E2dCY"
      },
      "execution_count": null,
      "outputs": []
    },
    {
      "cell_type": "code",
      "source": [
        "train_data.shape"
      ],
      "metadata": {
        "colab": {
          "base_uri": "https://localhost:8080/"
        },
        "id": "yqFd6VSk2mig",
        "outputId": "43f8e887-e555-4f24-a93a-0bc933a7993e"
      },
      "execution_count": null,
      "outputs": [
        {
          "output_type": "execute_result",
          "data": {
            "text/plain": [
              "(2035, 1)"
            ]
          },
          "metadata": {},
          "execution_count": 5
        }
      ]
    },
    {
      "cell_type": "code",
      "source": [
        "#train_data.head"
      ],
      "metadata": {
        "id": "qmwKu-eI2vRQ"
      },
      "execution_count": null,
      "outputs": []
    },
    {
      "cell_type": "code",
      "source": [
        "#feature  normalization\n",
        "train_data = train_data.values"
      ],
      "metadata": {
        "id": "_YXczjVr2y04"
      },
      "execution_count": null,
      "outputs": []
    },
    {
      "cell_type": "code",
      "source": [
        "train_data.shape"
      ],
      "metadata": {
        "colab": {
          "base_uri": "https://localhost:8080/"
        },
        "id": "DFeakgISDdgK",
        "outputId": "1e8cba40-bc8f-494a-e0d0-d46ab00d3082"
      },
      "execution_count": null,
      "outputs": [
        {
          "output_type": "execute_result",
          "data": {
            "text/plain": [
              "(2035, 1)"
            ]
          },
          "metadata": {},
          "execution_count": 8
        }
      ]
    },
    {
      "cell_type": "code",
      "source": [
        "train_data"
      ],
      "metadata": {
        "colab": {
          "base_uri": "https://localhost:8080/"
        },
        "id": "r2-YwVnR235J",
        "outputId": "a326ba8b-61fe-4527-d07b-f0984eb2d607"
      },
      "execution_count": null,
      "outputs": [
        {
          "output_type": "execute_result",
          "data": {
            "text/plain": [
              "array([[234.05],\n",
              "       [234.55],\n",
              "       [240.  ],\n",
              "       ...,\n",
              "       [121.8 ],\n",
              "       [120.3 ],\n",
              "       [122.1 ]])"
            ]
          },
          "metadata": {},
          "execution_count": 9
        }
      ]
    },
    {
      "cell_type": "code",
      "source": [
        "from sklearn.preprocessing import MinMaxScaler\n",
        "scale = MinMaxScaler(feature_range=(0,1))\n",
        "train_data_scaled=scale.fit_transform(train_data)"
      ],
      "metadata": {
        "id": "DG7JLJFu29bC"
      },
      "execution_count": null,
      "outputs": []
    },
    {
      "cell_type": "code",
      "source": [
        "#convert to timestamp of 60\n",
        "import numpy as np\n",
        "x_train =[]\n",
        "y_train = []\n",
        "for i in range (60,2035):\n",
        "  x_train.append(train_data_scaled[i-60:i,0])\n",
        "  y_train.append(train_data_scaled[i,0])\n",
        "x_train,y_train=np.array(x_train), np.array(y_train)"
      ],
      "metadata": {
        "id": "zWOPId-63BNR"
      },
      "execution_count": null,
      "outputs": []
    },
    {
      "cell_type": "code",
      "source": [
        "x_train.shape"
      ],
      "metadata": {
        "colab": {
          "base_uri": "https://localhost:8080/"
        },
        "id": "_185vbFh3ErS",
        "outputId": "bc56b2ab-5526-4744-e874-6b9144dd428c"
      },
      "execution_count": null,
      "outputs": [
        {
          "output_type": "execute_result",
          "data": {
            "text/plain": [
              "(1975, 60)"
            ]
          },
          "metadata": {},
          "execution_count": 12
        }
      ]
    },
    {
      "cell_type": "code",
      "source": [
        "#reshaping to 3D array\n",
        "x_train = np.reshape(x_train,(x_train.shape[0],x_train.shape[1],1))"
      ],
      "metadata": {
        "id": "Pm8eJFKF3J7H"
      },
      "execution_count": null,
      "outputs": []
    },
    {
      "cell_type": "code",
      "source": [
        "x_train.shape"
      ],
      "metadata": {
        "colab": {
          "base_uri": "https://localhost:8080/"
        },
        "id": "2l-96ABg3NDQ",
        "outputId": "c90bdbd9-819f-4ac4-bf65-704f3aa93dd6"
      },
      "execution_count": null,
      "outputs": [
        {
          "output_type": "execute_result",
          "data": {
            "text/plain": [
              "(1975, 60, 1)"
            ]
          },
          "metadata": {},
          "execution_count": 14
        }
      ]
    },
    {
      "cell_type": "code",
      "source": [
        "y_train.shape"
      ],
      "metadata": {
        "colab": {
          "base_uri": "https://localhost:8080/"
        },
        "id": "MzauYaMq3Pxf",
        "outputId": "c6837a53-3919-48ff-9cae-3643f2e04f8a"
      },
      "execution_count": null,
      "outputs": [
        {
          "output_type": "execute_result",
          "data": {
            "text/plain": [
              "(1975,)"
            ]
          },
          "metadata": {},
          "execution_count": 15
        }
      ]
    },
    {
      "cell_type": "code",
      "source": [
        "#Create model\n",
        "from keras import Sequential\n",
        "from keras.layers import Dense, LSTM, Dropout\n",
        "model = Sequential()\n",
        "model.add(LSTM(units=50, return_sequences=True, input_shape=(x_train.shape[1],1)))\n",
        "model.add(Dropout(0.2))\n",
        "model.add(LSTM(units=50, return_sequences=True))\n",
        "model.add(Dropout(0.2))\n",
        "model.add(LSTM(units=50))\n",
        "model.add(Dropout(0.2))\n",
        "model.add(Dense(units=1))"
      ],
      "metadata": {
        "id": "1ZZRt1zG3TDJ"
      },
      "execution_count": null,
      "outputs": []
    },
    {
      "cell_type": "code",
      "source": [],
      "metadata": {
        "id": "GvYD8hk0GzVT"
      },
      "execution_count": null,
      "outputs": []
    },
    {
      "cell_type": "code",
      "source": [
        "df2 = pd.read_csv('tatatest.csv')"
      ],
      "metadata": {
        "id": "5U7JJqNL3qTB"
      },
      "execution_count": null,
      "outputs": []
    },
    {
      "cell_type": "code",
      "source": [
        "df2.head()"
      ],
      "metadata": {
        "colab": {
          "base_uri": "https://localhost:8080/",
          "height": 206
        },
        "id": "ujM6iQmR3_7o",
        "outputId": "83927ed9-5138-4756-aab2-1b1508f48d44"
      },
      "execution_count": null,
      "outputs": [
        {
          "output_type": "execute_result",
          "data": {
            "text/plain": [
              "         Date    Open    High     Low    Last   Close  Total Trade Quantity  \\\n",
              "0  2018-10-24  220.10  221.25  217.05  219.55  219.80               2171956   \n",
              "1  2018-10-23  221.10  222.20  214.75  219.55  218.30               1416279   \n",
              "2  2018-10-22  229.45  231.60  222.00  223.05  223.25               3529711   \n",
              "3  2018-10-19  230.30  232.70  225.50  227.75  227.20               1527904   \n",
              "4  2018-10-17  237.70  240.80  229.45  231.30  231.10               2945914   \n",
              "\n",
              "   Turnover (Lacs)  \n",
              "0          4771.34  \n",
              "1          3092.15  \n",
              "2          8028.37  \n",
              "3          3490.78  \n",
              "4          6961.65  "
            ],
            "text/html": [
              "\n",
              "  <div id=\"df-9d655ff3-47bf-4829-8545-e7e93c870621\" class=\"colab-df-container\">\n",
              "    <div>\n",
              "<style scoped>\n",
              "    .dataframe tbody tr th:only-of-type {\n",
              "        vertical-align: middle;\n",
              "    }\n",
              "\n",
              "    .dataframe tbody tr th {\n",
              "        vertical-align: top;\n",
              "    }\n",
              "\n",
              "    .dataframe thead th {\n",
              "        text-align: right;\n",
              "    }\n",
              "</style>\n",
              "<table border=\"1\" class=\"dataframe\">\n",
              "  <thead>\n",
              "    <tr style=\"text-align: right;\">\n",
              "      <th></th>\n",
              "      <th>Date</th>\n",
              "      <th>Open</th>\n",
              "      <th>High</th>\n",
              "      <th>Low</th>\n",
              "      <th>Last</th>\n",
              "      <th>Close</th>\n",
              "      <th>Total Trade Quantity</th>\n",
              "      <th>Turnover (Lacs)</th>\n",
              "    </tr>\n",
              "  </thead>\n",
              "  <tbody>\n",
              "    <tr>\n",
              "      <th>0</th>\n",
              "      <td>2018-10-24</td>\n",
              "      <td>220.10</td>\n",
              "      <td>221.25</td>\n",
              "      <td>217.05</td>\n",
              "      <td>219.55</td>\n",
              "      <td>219.80</td>\n",
              "      <td>2171956</td>\n",
              "      <td>4771.34</td>\n",
              "    </tr>\n",
              "    <tr>\n",
              "      <th>1</th>\n",
              "      <td>2018-10-23</td>\n",
              "      <td>221.10</td>\n",
              "      <td>222.20</td>\n",
              "      <td>214.75</td>\n",
              "      <td>219.55</td>\n",
              "      <td>218.30</td>\n",
              "      <td>1416279</td>\n",
              "      <td>3092.15</td>\n",
              "    </tr>\n",
              "    <tr>\n",
              "      <th>2</th>\n",
              "      <td>2018-10-22</td>\n",
              "      <td>229.45</td>\n",
              "      <td>231.60</td>\n",
              "      <td>222.00</td>\n",
              "      <td>223.05</td>\n",
              "      <td>223.25</td>\n",
              "      <td>3529711</td>\n",
              "      <td>8028.37</td>\n",
              "    </tr>\n",
              "    <tr>\n",
              "      <th>3</th>\n",
              "      <td>2018-10-19</td>\n",
              "      <td>230.30</td>\n",
              "      <td>232.70</td>\n",
              "      <td>225.50</td>\n",
              "      <td>227.75</td>\n",
              "      <td>227.20</td>\n",
              "      <td>1527904</td>\n",
              "      <td>3490.78</td>\n",
              "    </tr>\n",
              "    <tr>\n",
              "      <th>4</th>\n",
              "      <td>2018-10-17</td>\n",
              "      <td>237.70</td>\n",
              "      <td>240.80</td>\n",
              "      <td>229.45</td>\n",
              "      <td>231.30</td>\n",
              "      <td>231.10</td>\n",
              "      <td>2945914</td>\n",
              "      <td>6961.65</td>\n",
              "    </tr>\n",
              "  </tbody>\n",
              "</table>\n",
              "</div>\n",
              "    <div class=\"colab-df-buttons\">\n",
              "\n",
              "  <div class=\"colab-df-container\">\n",
              "    <button class=\"colab-df-convert\" onclick=\"convertToInteractive('df-9d655ff3-47bf-4829-8545-e7e93c870621')\"\n",
              "            title=\"Convert this dataframe to an interactive table.\"\n",
              "            style=\"display:none;\">\n",
              "\n",
              "  <svg xmlns=\"http://www.w3.org/2000/svg\" height=\"24px\" viewBox=\"0 -960 960 960\">\n",
              "    <path d=\"M120-120v-720h720v720H120Zm60-500h600v-160H180v160Zm220 220h160v-160H400v160Zm0 220h160v-160H400v160ZM180-400h160v-160H180v160Zm440 0h160v-160H620v160ZM180-180h160v-160H180v160Zm440 0h160v-160H620v160Z\"/>\n",
              "  </svg>\n",
              "    </button>\n",
              "\n",
              "  <style>\n",
              "    .colab-df-container {\n",
              "      display:flex;\n",
              "      gap: 12px;\n",
              "    }\n",
              "\n",
              "    .colab-df-convert {\n",
              "      background-color: #E8F0FE;\n",
              "      border: none;\n",
              "      border-radius: 50%;\n",
              "      cursor: pointer;\n",
              "      display: none;\n",
              "      fill: #1967D2;\n",
              "      height: 32px;\n",
              "      padding: 0 0 0 0;\n",
              "      width: 32px;\n",
              "    }\n",
              "\n",
              "    .colab-df-convert:hover {\n",
              "      background-color: #E2EBFA;\n",
              "      box-shadow: 0px 1px 2px rgba(60, 64, 67, 0.3), 0px 1px 3px 1px rgba(60, 64, 67, 0.15);\n",
              "      fill: #174EA6;\n",
              "    }\n",
              "\n",
              "    .colab-df-buttons div {\n",
              "      margin-bottom: 4px;\n",
              "    }\n",
              "\n",
              "    [theme=dark] .colab-df-convert {\n",
              "      background-color: #3B4455;\n",
              "      fill: #D2E3FC;\n",
              "    }\n",
              "\n",
              "    [theme=dark] .colab-df-convert:hover {\n",
              "      background-color: #434B5C;\n",
              "      box-shadow: 0px 1px 3px 1px rgba(0, 0, 0, 0.15);\n",
              "      filter: drop-shadow(0px 1px 2px rgba(0, 0, 0, 0.3));\n",
              "      fill: #FFFFFF;\n",
              "    }\n",
              "  </style>\n",
              "\n",
              "    <script>\n",
              "      const buttonEl =\n",
              "        document.querySelector('#df-9d655ff3-47bf-4829-8545-e7e93c870621 button.colab-df-convert');\n",
              "      buttonEl.style.display =\n",
              "        google.colab.kernel.accessAllowed ? 'block' : 'none';\n",
              "\n",
              "      async function convertToInteractive(key) {\n",
              "        const element = document.querySelector('#df-9d655ff3-47bf-4829-8545-e7e93c870621');\n",
              "        const dataTable =\n",
              "          await google.colab.kernel.invokeFunction('convertToInteractive',\n",
              "                                                    [key], {});\n",
              "        if (!dataTable) return;\n",
              "\n",
              "        const docLinkHtml = 'Like what you see? Visit the ' +\n",
              "          '<a target=\"_blank\" href=https://colab.research.google.com/notebooks/data_table.ipynb>data table notebook</a>'\n",
              "          + ' to learn more about interactive tables.';\n",
              "        element.innerHTML = '';\n",
              "        dataTable['output_type'] = 'display_data';\n",
              "        await google.colab.output.renderOutput(dataTable, element);\n",
              "        const docLink = document.createElement('div');\n",
              "        docLink.innerHTML = docLinkHtml;\n",
              "        element.appendChild(docLink);\n",
              "      }\n",
              "    </script>\n",
              "  </div>\n",
              "\n",
              "\n",
              "<div id=\"df-0f4a911e-0aab-4ae6-8545-5a00e30bcdab\">\n",
              "  <button class=\"colab-df-quickchart\" onclick=\"quickchart('df-0f4a911e-0aab-4ae6-8545-5a00e30bcdab')\"\n",
              "            title=\"Suggest charts.\"\n",
              "            style=\"display:none;\">\n",
              "\n",
              "<svg xmlns=\"http://www.w3.org/2000/svg\" height=\"24px\"viewBox=\"0 0 24 24\"\n",
              "     width=\"24px\">\n",
              "    <g>\n",
              "        <path d=\"M19 3H5c-1.1 0-2 .9-2 2v14c0 1.1.9 2 2 2h14c1.1 0 2-.9 2-2V5c0-1.1-.9-2-2-2zM9 17H7v-7h2v7zm4 0h-2V7h2v10zm4 0h-2v-4h2v4z\"/>\n",
              "    </g>\n",
              "</svg>\n",
              "  </button>\n",
              "\n",
              "<style>\n",
              "  .colab-df-quickchart {\n",
              "      --bg-color: #E8F0FE;\n",
              "      --fill-color: #1967D2;\n",
              "      --hover-bg-color: #E2EBFA;\n",
              "      --hover-fill-color: #174EA6;\n",
              "      --disabled-fill-color: #AAA;\n",
              "      --disabled-bg-color: #DDD;\n",
              "  }\n",
              "\n",
              "  [theme=dark] .colab-df-quickchart {\n",
              "      --bg-color: #3B4455;\n",
              "      --fill-color: #D2E3FC;\n",
              "      --hover-bg-color: #434B5C;\n",
              "      --hover-fill-color: #FFFFFF;\n",
              "      --disabled-bg-color: #3B4455;\n",
              "      --disabled-fill-color: #666;\n",
              "  }\n",
              "\n",
              "  .colab-df-quickchart {\n",
              "    background-color: var(--bg-color);\n",
              "    border: none;\n",
              "    border-radius: 50%;\n",
              "    cursor: pointer;\n",
              "    display: none;\n",
              "    fill: var(--fill-color);\n",
              "    height: 32px;\n",
              "    padding: 0;\n",
              "    width: 32px;\n",
              "  }\n",
              "\n",
              "  .colab-df-quickchart:hover {\n",
              "    background-color: var(--hover-bg-color);\n",
              "    box-shadow: 0 1px 2px rgba(60, 64, 67, 0.3), 0 1px 3px 1px rgba(60, 64, 67, 0.15);\n",
              "    fill: var(--button-hover-fill-color);\n",
              "  }\n",
              "\n",
              "  .colab-df-quickchart-complete:disabled,\n",
              "  .colab-df-quickchart-complete:disabled:hover {\n",
              "    background-color: var(--disabled-bg-color);\n",
              "    fill: var(--disabled-fill-color);\n",
              "    box-shadow: none;\n",
              "  }\n",
              "\n",
              "  .colab-df-spinner {\n",
              "    border: 2px solid var(--fill-color);\n",
              "    border-color: transparent;\n",
              "    border-bottom-color: var(--fill-color);\n",
              "    animation:\n",
              "      spin 1s steps(1) infinite;\n",
              "  }\n",
              "\n",
              "  @keyframes spin {\n",
              "    0% {\n",
              "      border-color: transparent;\n",
              "      border-bottom-color: var(--fill-color);\n",
              "      border-left-color: var(--fill-color);\n",
              "    }\n",
              "    20% {\n",
              "      border-color: transparent;\n",
              "      border-left-color: var(--fill-color);\n",
              "      border-top-color: var(--fill-color);\n",
              "    }\n",
              "    30% {\n",
              "      border-color: transparent;\n",
              "      border-left-color: var(--fill-color);\n",
              "      border-top-color: var(--fill-color);\n",
              "      border-right-color: var(--fill-color);\n",
              "    }\n",
              "    40% {\n",
              "      border-color: transparent;\n",
              "      border-right-color: var(--fill-color);\n",
              "      border-top-color: var(--fill-color);\n",
              "    }\n",
              "    60% {\n",
              "      border-color: transparent;\n",
              "      border-right-color: var(--fill-color);\n",
              "    }\n",
              "    80% {\n",
              "      border-color: transparent;\n",
              "      border-right-color: var(--fill-color);\n",
              "      border-bottom-color: var(--fill-color);\n",
              "    }\n",
              "    90% {\n",
              "      border-color: transparent;\n",
              "      border-bottom-color: var(--fill-color);\n",
              "    }\n",
              "  }\n",
              "</style>\n",
              "\n",
              "  <script>\n",
              "    async function quickchart(key) {\n",
              "      const quickchartButtonEl =\n",
              "        document.querySelector('#' + key + ' button');\n",
              "      quickchartButtonEl.disabled = true;  // To prevent multiple clicks.\n",
              "      quickchartButtonEl.classList.add('colab-df-spinner');\n",
              "      try {\n",
              "        const charts = await google.colab.kernel.invokeFunction(\n",
              "            'suggestCharts', [key], {});\n",
              "      } catch (error) {\n",
              "        console.error('Error during call to suggestCharts:', error);\n",
              "      }\n",
              "      quickchartButtonEl.classList.remove('colab-df-spinner');\n",
              "      quickchartButtonEl.classList.add('colab-df-quickchart-complete');\n",
              "    }\n",
              "    (() => {\n",
              "      let quickchartButtonEl =\n",
              "        document.querySelector('#df-0f4a911e-0aab-4ae6-8545-5a00e30bcdab button');\n",
              "      quickchartButtonEl.style.display =\n",
              "        google.colab.kernel.accessAllowed ? 'block' : 'none';\n",
              "    })();\n",
              "  </script>\n",
              "</div>\n",
              "    </div>\n",
              "  </div>\n"
            ]
          },
          "metadata": {},
          "execution_count": 20
        }
      ]
    },
    {
      "cell_type": "code",
      "source": [
        "test_data = df2.iloc[:,1:2]"
      ],
      "metadata": {
        "id": "D-9VF-e43-6v"
      },
      "execution_count": null,
      "outputs": []
    },
    {
      "cell_type": "code",
      "source": [
        "test_data.shape"
      ],
      "metadata": {
        "colab": {
          "base_uri": "https://localhost:8080/"
        },
        "id": "ynnIH6UN4F3A",
        "outputId": "f153d9ec-21f8-4a32-bc85-a6c3bc9b0b71"
      },
      "execution_count": null,
      "outputs": [
        {
          "output_type": "execute_result",
          "data": {
            "text/plain": [
              "(16, 1)"
            ]
          },
          "metadata": {},
          "execution_count": 22
        }
      ]
    },
    {
      "cell_type": "code",
      "source": [
        "test_data.head"
      ],
      "metadata": {
        "colab": {
          "base_uri": "https://localhost:8080/"
        },
        "id": "EjiQDUQM4JKg",
        "outputId": "ecb39b67-67d0-4938-b8ff-a6a698196760"
      },
      "execution_count": null,
      "outputs": [
        {
          "output_type": "execute_result",
          "data": {
            "text/plain": [
              "<bound method NDFrame.head of       Open\n",
              "0   220.10\n",
              "1   221.10\n",
              "2   229.45\n",
              "3   230.30\n",
              "4   237.70\n",
              "5   237.10\n",
              "6   229.70\n",
              "7   226.25\n",
              "8   215.00\n",
              "9   215.00\n",
              "10  215.50\n",
              "11  208.00\n",
              "12  217.00\n",
              "13  223.50\n",
              "14  230.00\n",
              "15  234.55>"
            ]
          },
          "metadata": {},
          "execution_count": 23
        }
      ]
    },
    {
      "cell_type": "code",
      "source": [
        "dfx = pd.read_csv('NSE-TATAGLOBAL.csv')\n",
        "train_data1 = dfx.iloc[:,1:2]\n",
        "train_data1 = pd.DataFrame(train_data1)\n",
        "train_data1.shape\n",
        "test_data = pd.DataFrame(test_data)\n",
        "det = test_data.append(train_data1)"
      ],
      "metadata": {
        "colab": {
          "base_uri": "https://localhost:8080/"
        },
        "id": "Cp8UrgS94zVo",
        "outputId": "6f7ae771-6c96-45af-cb5c-a33740eb3129"
      },
      "execution_count": null,
      "outputs": [
        {
          "output_type": "stream",
          "name": "stderr",
          "text": [
            "<ipython-input-24-18a3b39abdc7>:6: FutureWarning: The frame.append method is deprecated and will be removed from pandas in a future version. Use pandas.concat instead.\n",
            "  det = test_data.append(train_data1)\n"
          ]
        }
      ]
    },
    {
      "cell_type": "code",
      "source": [
        "det.shape"
      ],
      "metadata": {
        "colab": {
          "base_uri": "https://localhost:8080/"
        },
        "id": "LCy-CxRj5I5i",
        "outputId": "3192bb1b-8699-4560-bd10-4ed21d1044d3"
      },
      "execution_count": null,
      "outputs": [
        {
          "output_type": "execute_result",
          "data": {
            "text/plain": [
              "(2051, 1)"
            ]
          },
          "metadata": {},
          "execution_count": 25
        }
      ]
    },
    {
      "cell_type": "code",
      "source": [
        "det = det.values"
      ],
      "metadata": {
        "id": "hBUVLS_A5O9T"
      },
      "execution_count": null,
      "outputs": []
    },
    {
      "cell_type": "code",
      "source": [
        "scale = MinMaxScaler(feature_range=(0,1))\n",
        "test_data_scaled=scale.fit_transform(det)"
      ],
      "metadata": {
        "id": "V5N2yPYm5U1h"
      },
      "execution_count": null,
      "outputs": []
    },
    {
      "cell_type": "code",
      "source": [
        "#convert to timestamp of 60\n",
        "x_test =[]\n",
        "y_test = []\n",
        "for i in range (60,2035):\n",
        "  x_test.append(test_data_scaled[i-60:i,0])\n",
        "  y_test.append(test_data_scaled[i,0])\n",
        "x_test,y_test=np.array(x_test), np.array(y_test)"
      ],
      "metadata": {
        "id": "b-5Bm2FC5Wpw"
      },
      "execution_count": null,
      "outputs": []
    },
    {
      "cell_type": "code",
      "source": [
        "x_test.shape"
      ],
      "metadata": {
        "colab": {
          "base_uri": "https://localhost:8080/"
        },
        "id": "jFlpw2-E5dZB",
        "outputId": "40f6178f-9058-4ea2-90b4-19e39fe0a96c"
      },
      "execution_count": null,
      "outputs": [
        {
          "output_type": "execute_result",
          "data": {
            "text/plain": [
              "(1975, 60)"
            ]
          },
          "metadata": {},
          "execution_count": 29
        }
      ]
    },
    {
      "cell_type": "code",
      "source": [
        "x_test = np.reshape(x_test,(x_test.shape[0],x_test.shape[1],1))"
      ],
      "metadata": {
        "id": "ZSzoh-U45h9A"
      },
      "execution_count": null,
      "outputs": []
    },
    {
      "cell_type": "code",
      "source": [
        "x_test.shape"
      ],
      "metadata": {
        "colab": {
          "base_uri": "https://localhost:8080/"
        },
        "id": "klcJZDot5llQ",
        "outputId": "90bc27df-cb1b-46d9-e9ad-d295c2d69497"
      },
      "execution_count": null,
      "outputs": [
        {
          "output_type": "execute_result",
          "data": {
            "text/plain": [
              "(1975, 60, 1)"
            ]
          },
          "metadata": {},
          "execution_count": 31
        }
      ]
    },
    {
      "cell_type": "code",
      "source": [
        "model.compile(optimizer='sgd', loss='mean_squared_error', metrics=['mean_absolute_error'])\n",
        "\n",
        "#model.fit(x_train,y_train, epochs=10, batch_size=32)\n",
        "model.fit(x_train, y_train, epochs=90,validation_data=(x_test, y_test), verbose=1)"
      ],
      "metadata": {
        "colab": {
          "base_uri": "https://localhost:8080/"
        },
        "id": "vXvWnc1K5otJ",
        "outputId": "9a97b0c6-2400-4629-96e7-35da5956f577"
      },
      "execution_count": null,
      "outputs": [
        {
          "output_type": "stream",
          "name": "stdout",
          "text": [
            "Epoch 1/90\n",
            "62/62 [==============================] - 16s 156ms/step - loss: 0.0182 - mean_absolute_error: 0.0906 - val_loss: 0.0154 - val_mean_absolute_error: 0.0826\n",
            "Epoch 2/90\n",
            "62/62 [==============================] - 7s 120ms/step - loss: 0.0131 - mean_absolute_error: 0.0771 - val_loss: 0.0101 - val_mean_absolute_error: 0.0671\n",
            "Epoch 3/90\n",
            "62/62 [==============================] - 6s 100ms/step - loss: 0.0081 - mean_absolute_error: 0.0603 - val_loss: 0.0060 - val_mean_absolute_error: 0.0516\n",
            "Epoch 4/90\n",
            "62/62 [==============================] - 7s 119ms/step - loss: 0.0052 - mean_absolute_error: 0.0484 - val_loss: 0.0037 - val_mean_absolute_error: 0.0402\n",
            "Epoch 5/90\n",
            "62/62 [==============================] - 6s 101ms/step - loss: 0.0040 - mean_absolute_error: 0.0428 - val_loss: 0.0026 - val_mean_absolute_error: 0.0349\n",
            "Epoch 6/90\n",
            "62/62 [==============================] - 7s 119ms/step - loss: 0.0034 - mean_absolute_error: 0.0397 - val_loss: 0.0022 - val_mean_absolute_error: 0.0329\n",
            "Epoch 7/90\n",
            "62/62 [==============================] - 6s 99ms/step - loss: 0.0029 - mean_absolute_error: 0.0382 - val_loss: 0.0021 - val_mean_absolute_error: 0.0323\n",
            "Epoch 8/90\n",
            "62/62 [==============================] - 8s 133ms/step - loss: 0.0031 - mean_absolute_error: 0.0384 - val_loss: 0.0021 - val_mean_absolute_error: 0.0322\n",
            "Epoch 9/90\n",
            "62/62 [==============================] - 6s 102ms/step - loss: 0.0029 - mean_absolute_error: 0.0370 - val_loss: 0.0020 - val_mean_absolute_error: 0.0318\n",
            "Epoch 10/90\n",
            "62/62 [==============================] - 7s 118ms/step - loss: 0.0030 - mean_absolute_error: 0.0379 - val_loss: 0.0020 - val_mean_absolute_error: 0.0317\n",
            "Epoch 11/90\n",
            "62/62 [==============================] - 7s 106ms/step - loss: 0.0028 - mean_absolute_error: 0.0368 - val_loss: 0.0019 - val_mean_absolute_error: 0.0317\n",
            "Epoch 12/90\n",
            "62/62 [==============================] - 7s 116ms/step - loss: 0.0029 - mean_absolute_error: 0.0370 - val_loss: 0.0020 - val_mean_absolute_error: 0.0315\n",
            "Epoch 13/90\n",
            "62/62 [==============================] - 8s 126ms/step - loss: 0.0025 - mean_absolute_error: 0.0356 - val_loss: 0.0020 - val_mean_absolute_error: 0.0317\n",
            "Epoch 14/90\n",
            "62/62 [==============================] - 6s 104ms/step - loss: 0.0027 - mean_absolute_error: 0.0367 - val_loss: 0.0019 - val_mean_absolute_error: 0.0316\n",
            "Epoch 15/90\n",
            "62/62 [==============================] - 8s 122ms/step - loss: 0.0028 - mean_absolute_error: 0.0363 - val_loss: 0.0019 - val_mean_absolute_error: 0.0314\n",
            "Epoch 16/90\n",
            "62/62 [==============================] - 6s 101ms/step - loss: 0.0029 - mean_absolute_error: 0.0367 - val_loss: 0.0019 - val_mean_absolute_error: 0.0313\n",
            "Epoch 17/90\n",
            "62/62 [==============================] - 8s 122ms/step - loss: 0.0028 - mean_absolute_error: 0.0369 - val_loss: 0.0019 - val_mean_absolute_error: 0.0313\n",
            "Epoch 18/90\n",
            "62/62 [==============================] - 6s 104ms/step - loss: 0.0026 - mean_absolute_error: 0.0359 - val_loss: 0.0019 - val_mean_absolute_error: 0.0313\n",
            "Epoch 19/90\n",
            "62/62 [==============================] - 7s 119ms/step - loss: 0.0027 - mean_absolute_error: 0.0365 - val_loss: 0.0019 - val_mean_absolute_error: 0.0312\n",
            "Epoch 20/90\n",
            "62/62 [==============================] - 6s 99ms/step - loss: 0.0028 - mean_absolute_error: 0.0363 - val_loss: 0.0019 - val_mean_absolute_error: 0.0311\n",
            "Epoch 21/90\n",
            "62/62 [==============================] - 7s 117ms/step - loss: 0.0026 - mean_absolute_error: 0.0361 - val_loss: 0.0019 - val_mean_absolute_error: 0.0312\n",
            "Epoch 22/90\n",
            "62/62 [==============================] - 7s 107ms/step - loss: 0.0024 - mean_absolute_error: 0.0346 - val_loss: 0.0019 - val_mean_absolute_error: 0.0311\n",
            "Epoch 23/90\n",
            "62/62 [==============================] - 8s 134ms/step - loss: 0.0026 - mean_absolute_error: 0.0357 - val_loss: 0.0019 - val_mean_absolute_error: 0.0312\n",
            "Epoch 24/90\n",
            "62/62 [==============================] - 9s 146ms/step - loss: 0.0026 - mean_absolute_error: 0.0358 - val_loss: 0.0019 - val_mean_absolute_error: 0.0309\n",
            "Epoch 25/90\n",
            "62/62 [==============================] - 7s 120ms/step - loss: 0.0027 - mean_absolute_error: 0.0358 - val_loss: 0.0019 - val_mean_absolute_error: 0.0309\n",
            "Epoch 26/90\n",
            "62/62 [==============================] - 7s 120ms/step - loss: 0.0027 - mean_absolute_error: 0.0356 - val_loss: 0.0019 - val_mean_absolute_error: 0.0309\n",
            "Epoch 27/90\n",
            "62/62 [==============================] - 6s 99ms/step - loss: 0.0027 - mean_absolute_error: 0.0359 - val_loss: 0.0018 - val_mean_absolute_error: 0.0309\n",
            "Epoch 28/90\n",
            "62/62 [==============================] - 9s 142ms/step - loss: 0.0027 - mean_absolute_error: 0.0354 - val_loss: 0.0019 - val_mean_absolute_error: 0.0307\n",
            "Epoch 29/90\n",
            "62/62 [==============================] - 8s 124ms/step - loss: 0.0027 - mean_absolute_error: 0.0354 - val_loss: 0.0019 - val_mean_absolute_error: 0.0310\n",
            "Epoch 30/90\n",
            "62/62 [==============================] - 8s 123ms/step - loss: 0.0027 - mean_absolute_error: 0.0358 - val_loss: 0.0018 - val_mean_absolute_error: 0.0307\n",
            "Epoch 31/90\n",
            "62/62 [==============================] - 7s 120ms/step - loss: 0.0023 - mean_absolute_error: 0.0339 - val_loss: 0.0018 - val_mean_absolute_error: 0.0306\n",
            "Epoch 32/90\n",
            "62/62 [==============================] - 8s 123ms/step - loss: 0.0025 - mean_absolute_error: 0.0342 - val_loss: 0.0018 - val_mean_absolute_error: 0.0306\n",
            "Epoch 33/90\n",
            "62/62 [==============================] - 7s 118ms/step - loss: 0.0028 - mean_absolute_error: 0.0356 - val_loss: 0.0018 - val_mean_absolute_error: 0.0307\n",
            "Epoch 34/90\n",
            "62/62 [==============================] - 7s 118ms/step - loss: 0.0023 - mean_absolute_error: 0.0343 - val_loss: 0.0018 - val_mean_absolute_error: 0.0305\n",
            "Epoch 35/90\n",
            "62/62 [==============================] - 6s 104ms/step - loss: 0.0026 - mean_absolute_error: 0.0348 - val_loss: 0.0019 - val_mean_absolute_error: 0.0314\n",
            "Epoch 36/90\n",
            "62/62 [==============================] - 7s 117ms/step - loss: 0.0024 - mean_absolute_error: 0.0344 - val_loss: 0.0018 - val_mean_absolute_error: 0.0305\n",
            "Epoch 37/90\n",
            "62/62 [==============================] - 8s 123ms/step - loss: 0.0024 - mean_absolute_error: 0.0342 - val_loss: 0.0018 - val_mean_absolute_error: 0.0305\n",
            "Epoch 38/90\n",
            "62/62 [==============================] - 7s 118ms/step - loss: 0.0025 - mean_absolute_error: 0.0346 - val_loss: 0.0018 - val_mean_absolute_error: 0.0304\n",
            "Epoch 39/90\n",
            "62/62 [==============================] - 6s 100ms/step - loss: 0.0024 - mean_absolute_error: 0.0344 - val_loss: 0.0018 - val_mean_absolute_error: 0.0303\n",
            "Epoch 40/90\n",
            "62/62 [==============================] - 7s 119ms/step - loss: 0.0024 - mean_absolute_error: 0.0340 - val_loss: 0.0018 - val_mean_absolute_error: 0.0304\n",
            "Epoch 41/90\n",
            "62/62 [==============================] - 8s 124ms/step - loss: 0.0024 - mean_absolute_error: 0.0341 - val_loss: 0.0018 - val_mean_absolute_error: 0.0304\n",
            "Epoch 42/90\n",
            "62/62 [==============================] - 6s 103ms/step - loss: 0.0024 - mean_absolute_error: 0.0348 - val_loss: 0.0018 - val_mean_absolute_error: 0.0302\n",
            "Epoch 43/90\n",
            "62/62 [==============================] - 8s 132ms/step - loss: 0.0026 - mean_absolute_error: 0.0346 - val_loss: 0.0018 - val_mean_absolute_error: 0.0311\n",
            "Epoch 44/90\n",
            "62/62 [==============================] - 6s 99ms/step - loss: 0.0023 - mean_absolute_error: 0.0339 - val_loss: 0.0018 - val_mean_absolute_error: 0.0302\n",
            "Epoch 45/90\n",
            "62/62 [==============================] - 7s 120ms/step - loss: 0.0022 - mean_absolute_error: 0.0332 - val_loss: 0.0018 - val_mean_absolute_error: 0.0303\n",
            "Epoch 46/90\n",
            "62/62 [==============================] - 8s 122ms/step - loss: 0.0025 - mean_absolute_error: 0.0345 - val_loss: 0.0018 - val_mean_absolute_error: 0.0304\n",
            "Epoch 47/90\n",
            "62/62 [==============================] - 7s 122ms/step - loss: 0.0025 - mean_absolute_error: 0.0347 - val_loss: 0.0018 - val_mean_absolute_error: 0.0302\n",
            "Epoch 48/90\n",
            "62/62 [==============================] - 8s 123ms/step - loss: 0.0024 - mean_absolute_error: 0.0341 - val_loss: 0.0018 - val_mean_absolute_error: 0.0301\n",
            "Epoch 49/90\n",
            "62/62 [==============================] - 6s 101ms/step - loss: 0.0022 - mean_absolute_error: 0.0336 - val_loss: 0.0018 - val_mean_absolute_error: 0.0303\n",
            "Epoch 50/90\n",
            "62/62 [==============================] - 9s 141ms/step - loss: 0.0025 - mean_absolute_error: 0.0343 - val_loss: 0.0018 - val_mean_absolute_error: 0.0300\n",
            "Epoch 51/90\n",
            "62/62 [==============================] - 6s 102ms/step - loss: 0.0022 - mean_absolute_error: 0.0334 - val_loss: 0.0018 - val_mean_absolute_error: 0.0300\n",
            "Epoch 52/90\n",
            "62/62 [==============================] - 8s 122ms/step - loss: 0.0023 - mean_absolute_error: 0.0340 - val_loss: 0.0018 - val_mean_absolute_error: 0.0301\n",
            "Epoch 53/90\n",
            "62/62 [==============================] - 7s 107ms/step - loss: 0.0025 - mean_absolute_error: 0.0345 - val_loss: 0.0017 - val_mean_absolute_error: 0.0300\n",
            "Epoch 54/90\n",
            "62/62 [==============================] - 8s 123ms/step - loss: 0.0022 - mean_absolute_error: 0.0333 - val_loss: 0.0017 - val_mean_absolute_error: 0.0299\n",
            "Epoch 55/90\n",
            "62/62 [==============================] - 8s 125ms/step - loss: 0.0024 - mean_absolute_error: 0.0339 - val_loss: 0.0017 - val_mean_absolute_error: 0.0299\n",
            "Epoch 56/90\n",
            "62/62 [==============================] - 8s 126ms/step - loss: 0.0023 - mean_absolute_error: 0.0333 - val_loss: 0.0017 - val_mean_absolute_error: 0.0298\n",
            "Epoch 57/90\n",
            "62/62 [==============================] - 7s 120ms/step - loss: 0.0022 - mean_absolute_error: 0.0331 - val_loss: 0.0017 - val_mean_absolute_error: 0.0298\n",
            "Epoch 58/90\n",
            "62/62 [==============================] - 6s 102ms/step - loss: 0.0024 - mean_absolute_error: 0.0340 - val_loss: 0.0018 - val_mean_absolute_error: 0.0304\n",
            "Epoch 59/90\n",
            "62/62 [==============================] - 8s 122ms/step - loss: 0.0024 - mean_absolute_error: 0.0344 - val_loss: 0.0018 - val_mean_absolute_error: 0.0299\n",
            "Epoch 60/90\n",
            "62/62 [==============================] - 8s 125ms/step - loss: 0.0022 - mean_absolute_error: 0.0324 - val_loss: 0.0017 - val_mean_absolute_error: 0.0297\n",
            "Epoch 61/90\n",
            "62/62 [==============================] - 8s 124ms/step - loss: 0.0024 - mean_absolute_error: 0.0336 - val_loss: 0.0017 - val_mean_absolute_error: 0.0298\n",
            "Epoch 62/90\n",
            "62/62 [==============================] - 9s 145ms/step - loss: 0.0022 - mean_absolute_error: 0.0327 - val_loss: 0.0017 - val_mean_absolute_error: 0.0299\n",
            "Epoch 63/90\n",
            "62/62 [==============================] - 6s 101ms/step - loss: 0.0023 - mean_absolute_error: 0.0336 - val_loss: 0.0017 - val_mean_absolute_error: 0.0303\n",
            "Epoch 64/90\n",
            "62/62 [==============================] - 7s 121ms/step - loss: 0.0022 - mean_absolute_error: 0.0327 - val_loss: 0.0017 - val_mean_absolute_error: 0.0299\n",
            "Epoch 65/90\n",
            "62/62 [==============================] - 8s 123ms/step - loss: 0.0023 - mean_absolute_error: 0.0337 - val_loss: 0.0017 - val_mean_absolute_error: 0.0297\n",
            "Epoch 66/90\n",
            "62/62 [==============================] - 6s 103ms/step - loss: 0.0022 - mean_absolute_error: 0.0328 - val_loss: 0.0017 - val_mean_absolute_error: 0.0300\n",
            "Epoch 67/90\n",
            "62/62 [==============================] - 9s 141ms/step - loss: 0.0023 - mean_absolute_error: 0.0331 - val_loss: 0.0017 - val_mean_absolute_error: 0.0297\n",
            "Epoch 68/90\n",
            "62/62 [==============================] - 6s 104ms/step - loss: 0.0024 - mean_absolute_error: 0.0332 - val_loss: 0.0017 - val_mean_absolute_error: 0.0296\n",
            "Epoch 69/90\n",
            "62/62 [==============================] - 9s 142ms/step - loss: 0.0022 - mean_absolute_error: 0.0330 - val_loss: 0.0017 - val_mean_absolute_error: 0.0295\n",
            "Epoch 70/90\n",
            "62/62 [==============================] - 8s 122ms/step - loss: 0.0022 - mean_absolute_error: 0.0327 - val_loss: 0.0017 - val_mean_absolute_error: 0.0298\n",
            "Epoch 71/90\n",
            "62/62 [==============================] - 6s 102ms/step - loss: 0.0022 - mean_absolute_error: 0.0333 - val_loss: 0.0018 - val_mean_absolute_error: 0.0302\n",
            "Epoch 72/90\n",
            "62/62 [==============================] - 8s 122ms/step - loss: 0.0024 - mean_absolute_error: 0.0335 - val_loss: 0.0017 - val_mean_absolute_error: 0.0297\n",
            "Epoch 73/90\n",
            "62/62 [==============================] - 7s 106ms/step - loss: 0.0022 - mean_absolute_error: 0.0324 - val_loss: 0.0018 - val_mean_absolute_error: 0.0298\n",
            "Epoch 74/90\n",
            "62/62 [==============================] - 9s 141ms/step - loss: 0.0022 - mean_absolute_error: 0.0326 - val_loss: 0.0017 - val_mean_absolute_error: 0.0302\n",
            "Epoch 75/90\n",
            "62/62 [==============================] - 8s 125ms/step - loss: 0.0021 - mean_absolute_error: 0.0324 - val_loss: 0.0017 - val_mean_absolute_error: 0.0295\n",
            "Epoch 76/90\n",
            "62/62 [==============================] - 7s 105ms/step - loss: 0.0024 - mean_absolute_error: 0.0339 - val_loss: 0.0017 - val_mean_absolute_error: 0.0297\n",
            "Epoch 77/90\n",
            "62/62 [==============================] - 8s 137ms/step - loss: 0.0023 - mean_absolute_error: 0.0332 - val_loss: 0.0017 - val_mean_absolute_error: 0.0295\n",
            "Epoch 78/90\n",
            "62/62 [==============================] - 8s 133ms/step - loss: 0.0024 - mean_absolute_error: 0.0335 - val_loss: 0.0017 - val_mean_absolute_error: 0.0294\n",
            "Epoch 79/90\n",
            "62/62 [==============================] - 7s 120ms/step - loss: 0.0022 - mean_absolute_error: 0.0328 - val_loss: 0.0017 - val_mean_absolute_error: 0.0294\n",
            "Epoch 80/90\n",
            "62/62 [==============================] - 6s 101ms/step - loss: 0.0022 - mean_absolute_error: 0.0328 - val_loss: 0.0017 - val_mean_absolute_error: 0.0296\n",
            "Epoch 81/90\n",
            "62/62 [==============================] - 7s 120ms/step - loss: 0.0021 - mean_absolute_error: 0.0324 - val_loss: 0.0017 - val_mean_absolute_error: 0.0293\n",
            "Epoch 82/90\n",
            "62/62 [==============================] - 8s 124ms/step - loss: 0.0022 - mean_absolute_error: 0.0330 - val_loss: 0.0017 - val_mean_absolute_error: 0.0292\n",
            "Epoch 83/90\n",
            "62/62 [==============================] - 7s 106ms/step - loss: 0.0022 - mean_absolute_error: 0.0329 - val_loss: 0.0017 - val_mean_absolute_error: 0.0292\n",
            "Epoch 84/90\n",
            "62/62 [==============================] - 7s 120ms/step - loss: 0.0023 - mean_absolute_error: 0.0332 - val_loss: 0.0017 - val_mean_absolute_error: 0.0292\n",
            "Epoch 85/90\n",
            "62/62 [==============================] - 7s 105ms/step - loss: 0.0021 - mean_absolute_error: 0.0321 - val_loss: 0.0017 - val_mean_absolute_error: 0.0293\n",
            "Epoch 86/90\n",
            "62/62 [==============================] - 9s 143ms/step - loss: 0.0023 - mean_absolute_error: 0.0328 - val_loss: 0.0017 - val_mean_absolute_error: 0.0292\n",
            "Epoch 87/90\n",
            "62/62 [==============================] - 6s 101ms/step - loss: 0.0024 - mean_absolute_error: 0.0332 - val_loss: 0.0017 - val_mean_absolute_error: 0.0292\n",
            "Epoch 88/90\n",
            "62/62 [==============================] - 8s 122ms/step - loss: 0.0022 - mean_absolute_error: 0.0327 - val_loss: 0.0017 - val_mean_absolute_error: 0.0293\n",
            "Epoch 89/90\n",
            "62/62 [==============================] - 8s 123ms/step - loss: 0.0022 - mean_absolute_error: 0.0328 - val_loss: 0.0017 - val_mean_absolute_error: 0.0291\n",
            "Epoch 90/90\n",
            "62/62 [==============================] - 8s 128ms/step - loss: 0.0020 - mean_absolute_error: 0.0319 - val_loss: 0.0017 - val_mean_absolute_error: 0.0294\n"
          ]
        },
        {
          "output_type": "execute_result",
          "data": {
            "text/plain": [
              "<keras.src.callbacks.History at 0x7aeb84252b90>"
            ]
          },
          "metadata": {},
          "execution_count": 33
        }
      ]
    },
    {
      "cell_type": "code",
      "source": [
        "# make a prediction\n",
        "ynew = model.predict(x_test)"
      ],
      "metadata": {
        "colab": {
          "base_uri": "https://localhost:8080/"
        },
        "id": "OA_JboHk50mp",
        "outputId": "65f9d13c-4ccd-4083-b1d2-dc9b298af3a2"
      },
      "execution_count": null,
      "outputs": [
        {
          "output_type": "stream",
          "name": "stdout",
          "text": [
            "62/62 [==============================] - 2s 22ms/step\n"
          ]
        }
      ]
    },
    {
      "cell_type": "code",
      "source": [
        "ynew.shape"
      ],
      "metadata": {
        "id": "h9Nu72ZX8QFg",
        "outputId": "4b882c02-ce06-4c0b-b702-1dc63802d832",
        "colab": {
          "base_uri": "https://localhost:8080/"
        }
      },
      "execution_count": null,
      "outputs": [
        {
          "output_type": "execute_result",
          "data": {
            "text/plain": [
              "(1975, 1)"
            ]
          },
          "metadata": {},
          "execution_count": 35
        }
      ]
    },
    {
      "cell_type": "code",
      "source": [
        "test_inverse_predicted = scale.inverse_transform(ynew)"
      ],
      "metadata": {
        "id": "ewie0cNc56BT"
      },
      "execution_count": null,
      "outputs": []
    },
    {
      "cell_type": "code",
      "source": [],
      "metadata": {
        "id": "hL5lUHtqOYLJ"
      },
      "execution_count": null,
      "outputs": []
    },
    {
      "cell_type": "code",
      "source": [
        "slic_data = pd.concat([df.iloc[60:2035,1:2].copy(),pd.DataFrame(test_inverse_predicted,columns=['open_predicted'],index=df.iloc[60:2035,1:2].index)], axis=1)\n",
        "\n",
        "slic_data.head()"
      ],
      "metadata": {
        "id": "iAbEVPQV5-IB",
        "colab": {
          "base_uri": "https://localhost:8080/",
          "height": 206
        },
        "outputId": "ad493978-d3c6-4660-f8cf-f4f0e277e7e1"
      },
      "execution_count": null,
      "outputs": [
        {
          "output_type": "execute_result",
          "data": {
            "text/plain": [
              "     Open  open_predicted\n",
              "60  271.0      235.516739\n",
              "61  262.7      235.868668\n",
              "62  263.0      236.208832\n",
              "63  265.1      236.476669\n",
              "64  264.8      236.693710"
            ],
            "text/html": [
              "\n",
              "  <div id=\"df-a12ccd14-88e7-4572-b710-6fc2269d2d33\" class=\"colab-df-container\">\n",
              "    <div>\n",
              "<style scoped>\n",
              "    .dataframe tbody tr th:only-of-type {\n",
              "        vertical-align: middle;\n",
              "    }\n",
              "\n",
              "    .dataframe tbody tr th {\n",
              "        vertical-align: top;\n",
              "    }\n",
              "\n",
              "    .dataframe thead th {\n",
              "        text-align: right;\n",
              "    }\n",
              "</style>\n",
              "<table border=\"1\" class=\"dataframe\">\n",
              "  <thead>\n",
              "    <tr style=\"text-align: right;\">\n",
              "      <th></th>\n",
              "      <th>Open</th>\n",
              "      <th>open_predicted</th>\n",
              "    </tr>\n",
              "  </thead>\n",
              "  <tbody>\n",
              "    <tr>\n",
              "      <th>60</th>\n",
              "      <td>271.0</td>\n",
              "      <td>235.516739</td>\n",
              "    </tr>\n",
              "    <tr>\n",
              "      <th>61</th>\n",
              "      <td>262.7</td>\n",
              "      <td>235.868668</td>\n",
              "    </tr>\n",
              "    <tr>\n",
              "      <th>62</th>\n",
              "      <td>263.0</td>\n",
              "      <td>236.208832</td>\n",
              "    </tr>\n",
              "    <tr>\n",
              "      <th>63</th>\n",
              "      <td>265.1</td>\n",
              "      <td>236.476669</td>\n",
              "    </tr>\n",
              "    <tr>\n",
              "      <th>64</th>\n",
              "      <td>264.8</td>\n",
              "      <td>236.693710</td>\n",
              "    </tr>\n",
              "  </tbody>\n",
              "</table>\n",
              "</div>\n",
              "    <div class=\"colab-df-buttons\">\n",
              "\n",
              "  <div class=\"colab-df-container\">\n",
              "    <button class=\"colab-df-convert\" onclick=\"convertToInteractive('df-a12ccd14-88e7-4572-b710-6fc2269d2d33')\"\n",
              "            title=\"Convert this dataframe to an interactive table.\"\n",
              "            style=\"display:none;\">\n",
              "\n",
              "  <svg xmlns=\"http://www.w3.org/2000/svg\" height=\"24px\" viewBox=\"0 -960 960 960\">\n",
              "    <path d=\"M120-120v-720h720v720H120Zm60-500h600v-160H180v160Zm220 220h160v-160H400v160Zm0 220h160v-160H400v160ZM180-400h160v-160H180v160Zm440 0h160v-160H620v160ZM180-180h160v-160H180v160Zm440 0h160v-160H620v160Z\"/>\n",
              "  </svg>\n",
              "    </button>\n",
              "\n",
              "  <style>\n",
              "    .colab-df-container {\n",
              "      display:flex;\n",
              "      gap: 12px;\n",
              "    }\n",
              "\n",
              "    .colab-df-convert {\n",
              "      background-color: #E8F0FE;\n",
              "      border: none;\n",
              "      border-radius: 50%;\n",
              "      cursor: pointer;\n",
              "      display: none;\n",
              "      fill: #1967D2;\n",
              "      height: 32px;\n",
              "      padding: 0 0 0 0;\n",
              "      width: 32px;\n",
              "    }\n",
              "\n",
              "    .colab-df-convert:hover {\n",
              "      background-color: #E2EBFA;\n",
              "      box-shadow: 0px 1px 2px rgba(60, 64, 67, 0.3), 0px 1px 3px 1px rgba(60, 64, 67, 0.15);\n",
              "      fill: #174EA6;\n",
              "    }\n",
              "\n",
              "    .colab-df-buttons div {\n",
              "      margin-bottom: 4px;\n",
              "    }\n",
              "\n",
              "    [theme=dark] .colab-df-convert {\n",
              "      background-color: #3B4455;\n",
              "      fill: #D2E3FC;\n",
              "    }\n",
              "\n",
              "    [theme=dark] .colab-df-convert:hover {\n",
              "      background-color: #434B5C;\n",
              "      box-shadow: 0px 1px 3px 1px rgba(0, 0, 0, 0.15);\n",
              "      filter: drop-shadow(0px 1px 2px rgba(0, 0, 0, 0.3));\n",
              "      fill: #FFFFFF;\n",
              "    }\n",
              "  </style>\n",
              "\n",
              "    <script>\n",
              "      const buttonEl =\n",
              "        document.querySelector('#df-a12ccd14-88e7-4572-b710-6fc2269d2d33 button.colab-df-convert');\n",
              "      buttonEl.style.display =\n",
              "        google.colab.kernel.accessAllowed ? 'block' : 'none';\n",
              "\n",
              "      async function convertToInteractive(key) {\n",
              "        const element = document.querySelector('#df-a12ccd14-88e7-4572-b710-6fc2269d2d33');\n",
              "        const dataTable =\n",
              "          await google.colab.kernel.invokeFunction('convertToInteractive',\n",
              "                                                    [key], {});\n",
              "        if (!dataTable) return;\n",
              "\n",
              "        const docLinkHtml = 'Like what you see? Visit the ' +\n",
              "          '<a target=\"_blank\" href=https://colab.research.google.com/notebooks/data_table.ipynb>data table notebook</a>'\n",
              "          + ' to learn more about interactive tables.';\n",
              "        element.innerHTML = '';\n",
              "        dataTable['output_type'] = 'display_data';\n",
              "        await google.colab.output.renderOutput(dataTable, element);\n",
              "        const docLink = document.createElement('div');\n",
              "        docLink.innerHTML = docLinkHtml;\n",
              "        element.appendChild(docLink);\n",
              "      }\n",
              "    </script>\n",
              "  </div>\n",
              "\n",
              "\n",
              "<div id=\"df-4f328968-ed37-4900-bbd6-914aee27c563\">\n",
              "  <button class=\"colab-df-quickchart\" onclick=\"quickchart('df-4f328968-ed37-4900-bbd6-914aee27c563')\"\n",
              "            title=\"Suggest charts.\"\n",
              "            style=\"display:none;\">\n",
              "\n",
              "<svg xmlns=\"http://www.w3.org/2000/svg\" height=\"24px\"viewBox=\"0 0 24 24\"\n",
              "     width=\"24px\">\n",
              "    <g>\n",
              "        <path d=\"M19 3H5c-1.1 0-2 .9-2 2v14c0 1.1.9 2 2 2h14c1.1 0 2-.9 2-2V5c0-1.1-.9-2-2-2zM9 17H7v-7h2v7zm4 0h-2V7h2v10zm4 0h-2v-4h2v4z\"/>\n",
              "    </g>\n",
              "</svg>\n",
              "  </button>\n",
              "\n",
              "<style>\n",
              "  .colab-df-quickchart {\n",
              "      --bg-color: #E8F0FE;\n",
              "      --fill-color: #1967D2;\n",
              "      --hover-bg-color: #E2EBFA;\n",
              "      --hover-fill-color: #174EA6;\n",
              "      --disabled-fill-color: #AAA;\n",
              "      --disabled-bg-color: #DDD;\n",
              "  }\n",
              "\n",
              "  [theme=dark] .colab-df-quickchart {\n",
              "      --bg-color: #3B4455;\n",
              "      --fill-color: #D2E3FC;\n",
              "      --hover-bg-color: #434B5C;\n",
              "      --hover-fill-color: #FFFFFF;\n",
              "      --disabled-bg-color: #3B4455;\n",
              "      --disabled-fill-color: #666;\n",
              "  }\n",
              "\n",
              "  .colab-df-quickchart {\n",
              "    background-color: var(--bg-color);\n",
              "    border: none;\n",
              "    border-radius: 50%;\n",
              "    cursor: pointer;\n",
              "    display: none;\n",
              "    fill: var(--fill-color);\n",
              "    height: 32px;\n",
              "    padding: 0;\n",
              "    width: 32px;\n",
              "  }\n",
              "\n",
              "  .colab-df-quickchart:hover {\n",
              "    background-color: var(--hover-bg-color);\n",
              "    box-shadow: 0 1px 2px rgba(60, 64, 67, 0.3), 0 1px 3px 1px rgba(60, 64, 67, 0.15);\n",
              "    fill: var(--button-hover-fill-color);\n",
              "  }\n",
              "\n",
              "  .colab-df-quickchart-complete:disabled,\n",
              "  .colab-df-quickchart-complete:disabled:hover {\n",
              "    background-color: var(--disabled-bg-color);\n",
              "    fill: var(--disabled-fill-color);\n",
              "    box-shadow: none;\n",
              "  }\n",
              "\n",
              "  .colab-df-spinner {\n",
              "    border: 2px solid var(--fill-color);\n",
              "    border-color: transparent;\n",
              "    border-bottom-color: var(--fill-color);\n",
              "    animation:\n",
              "      spin 1s steps(1) infinite;\n",
              "  }\n",
              "\n",
              "  @keyframes spin {\n",
              "    0% {\n",
              "      border-color: transparent;\n",
              "      border-bottom-color: var(--fill-color);\n",
              "      border-left-color: var(--fill-color);\n",
              "    }\n",
              "    20% {\n",
              "      border-color: transparent;\n",
              "      border-left-color: var(--fill-color);\n",
              "      border-top-color: var(--fill-color);\n",
              "    }\n",
              "    30% {\n",
              "      border-color: transparent;\n",
              "      border-left-color: var(--fill-color);\n",
              "      border-top-color: var(--fill-color);\n",
              "      border-right-color: var(--fill-color);\n",
              "    }\n",
              "    40% {\n",
              "      border-color: transparent;\n",
              "      border-right-color: var(--fill-color);\n",
              "      border-top-color: var(--fill-color);\n",
              "    }\n",
              "    60% {\n",
              "      border-color: transparent;\n",
              "      border-right-color: var(--fill-color);\n",
              "    }\n",
              "    80% {\n",
              "      border-color: transparent;\n",
              "      border-right-color: var(--fill-color);\n",
              "      border-bottom-color: var(--fill-color);\n",
              "    }\n",
              "    90% {\n",
              "      border-color: transparent;\n",
              "      border-bottom-color: var(--fill-color);\n",
              "    }\n",
              "  }\n",
              "</style>\n",
              "\n",
              "  <script>\n",
              "    async function quickchart(key) {\n",
              "      const quickchartButtonEl =\n",
              "        document.querySelector('#' + key + ' button');\n",
              "      quickchartButtonEl.disabled = true;  // To prevent multiple clicks.\n",
              "      quickchartButtonEl.classList.add('colab-df-spinner');\n",
              "      try {\n",
              "        const charts = await google.colab.kernel.invokeFunction(\n",
              "            'suggestCharts', [key], {});\n",
              "      } catch (error) {\n",
              "        console.error('Error during call to suggestCharts:', error);\n",
              "      }\n",
              "      quickchartButtonEl.classList.remove('colab-df-spinner');\n",
              "      quickchartButtonEl.classList.add('colab-df-quickchart-complete');\n",
              "    }\n",
              "    (() => {\n",
              "      let quickchartButtonEl =\n",
              "        document.querySelector('#df-4f328968-ed37-4900-bbd6-914aee27c563 button');\n",
              "      quickchartButtonEl.style.display =\n",
              "        google.colab.kernel.accessAllowed ? 'block' : 'none';\n",
              "    })();\n",
              "  </script>\n",
              "</div>\n",
              "    </div>\n",
              "  </div>\n"
            ]
          },
          "metadata": {},
          "execution_count": 37
        }
      ]
    },
    {
      "cell_type": "code",
      "source": [
        "import matplotlib.pyplot as plt\n",
        "slic_data[['Open','open_predicted']].plot(figsize=(10,6))\n",
        "plt.xticks(rotation=45)\n",
        "plt.xlabel('Date',size=15)\n",
        "plt.ylabel('Stock Price',size=15)\n",
        "plt.title('Actual vs Predicted for open price',size=15)\n",
        "plt.show()"
      ],
      "metadata": {
        "id": "i1wc6bdO6C5E",
        "colab": {
          "base_uri": "https://localhost:8080/",
          "height": 593
        },
        "outputId": "79ab8c78-7d94-4ee5-dee0-bb5bd72613c7"
      },
      "execution_count": null,
      "outputs": [
        {
          "output_type": "display_data",
          "data": {
            "text/plain": [
              "<Figure size 1000x600 with 1 Axes>"
            ],
            "image/png": "[encoded data removed]"
          },
          "metadata": {}
        }
      ]
    },
    {
      "cell_type": "markdown",
      "source": [
        "Conclusion: I have successfully performed stock priece prediction"
      ],
      "metadata": {
        "id": "QMyKfAMOk0iZ"
      }
    }
  ]
}