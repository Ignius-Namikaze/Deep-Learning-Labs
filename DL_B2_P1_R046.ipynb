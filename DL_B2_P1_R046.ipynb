{
  "nbformat": 4,
  "nbformat_minor": 0,
  "metadata": {
    "colab": {
      "provenance": []
    },
    "kernelspec": {
      "name": "python3",
      "display_name": "Python 3"
    },
    "language_info": {
      "name": "python"
    }
  },
  "cells": [
    {
      "cell_type": "markdown",
      "source": [
        "#Course: Deep Learning\n",
        "#Program: MBA Tech AI\n",
        "#Sem: V\n",
        "# Academic Year: 2023-24\n",
        "# Instructor: Dr.Radhika Chapaneri\n",
        "# Experiment No: 1\n",
        "\n",
        "#Roll No: R046\n",
        "#Name: Tungishsanjay Sankar\n",
        "#Batch : B2\n",
        "#Date of Experiment:3rd August\n",
        "\n",
        "\n",
        "\n"
      ],
      "metadata": {
        "id": "YR45fKIrk-Ud"
      }
    },
    {
      "cell_type": "markdown",
      "source": [
        "# Task 1: Perform basic operations of Tensorflow\n"
      ],
      "metadata": {
        "id": "-D57RB19zNvq"
      }
    },
    {
      "cell_type": "markdown",
      "source": [
        "# Task 2: Perform linear algebra operations using Tensorflow\n"
      ],
      "metadata": {
        "id": "ApdIgMKp5Sqi"
      }
    },
    {
      "cell_type": "markdown",
      "source": [
        "# Task 3: Perform derivative and higher order derivative using gradient tape\n",
        "\n",
        "\n",
        "\n"
      ],
      "metadata": {
        "id": "AauoTgQwKUVL"
      }
    },
    {
      "cell_type": "markdown",
      "source": [
        "# Task 4: Compute WX+b  where W,X,, and b  are drawn from a random normal distribution. W is of shape (4, 3), X is (3,1) and b is (4,1)."
      ],
      "metadata": {
        "id": "Tmdl89nUH-4M"
      }
    },
    {
      "cell_type": "markdown",
      "source": [
        "# Task 5: Compute Gradient of sigmoid function\n",
        "![image.png](data:image/png;base64,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)"
      ],
      "metadata": {
        "id": "YgtalHLpKjCZ"
      }
    },
    {
      "cell_type": "markdown",
      "source": [
        "# Task 1"
      ],
      "metadata": {
        "id": "Bz8SqooD_PJZ"
      }
    },
    {
      "cell_type": "code",
      "source": [
        "import numpy as np\n",
        "import tensorflow as tf"
      ],
      "metadata": {
        "id": "7-njgNVryjsv"
      },
      "execution_count": null,
      "outputs": []
    },
    {
      "cell_type": "code",
      "source": [
        "tf.__version__"
      ],
      "metadata": {
        "id": "pE3-HHOsyoQE",
        "colab": {
          "base_uri": "https://localhost:8080/",
          "height": 36
        },
        "outputId": "f9732479-8321-4dd2-83af-bafd8ab87d3f"
      },
      "execution_count": null,
      "outputs": [
        {
          "output_type": "execute_result",
          "data": {
            "text/plain": [
              "'2.12.0'"
            ],
            "application/vnd.google.colaboratory.intrinsic+json": {
              "type": "string"
            }
          },
          "metadata": {},
          "execution_count": 22
        }
      ]
    },
    {
      "cell_type": "code",
      "source": [
        "# constants\n",
        "x = tf.constant([[1,2,3], [4,5,6]])"
      ],
      "metadata": {
        "id": "zXlyLhI-y38D"
      },
      "execution_count": null,
      "outputs": []
    },
    {
      "cell_type": "code",
      "source": [
        "print(x)"
      ],
      "metadata": {
        "colab": {
          "base_uri": "https://localhost:8080/"
        },
        "id": "cerHTpozzH4_",
        "outputId": "f855fb46-5424-4bdc-943a-923768d926cd"
      },
      "execution_count": null,
      "outputs": [
        {
          "output_type": "stream",
          "name": "stdout",
          "text": [
            "tf.Tensor(\n",
            "[[1 2 3]\n",
            " [4 5 6]], shape=(2, 3), dtype=int32)\n"
          ]
        }
      ]
    },
    {
      "cell_type": "code",
      "source": [
        "print(x.shape)"
      ],
      "metadata": {
        "colab": {
          "base_uri": "https://localhost:8080/"
        },
        "id": "Ps_rmk01zSNg",
        "outputId": "3036b945-a230-4f38-82a9-decb4db803c7"
      },
      "execution_count": null,
      "outputs": [
        {
          "output_type": "stream",
          "name": "stdout",
          "text": [
            "(2, 3)\n"
          ]
        }
      ]
    },
    {
      "cell_type": "code",
      "source": [
        "print(x.dtype)"
      ],
      "metadata": {
        "colab": {
          "base_uri": "https://localhost:8080/"
        },
        "id": "fGaGuRFazT2C",
        "outputId": "924028b3-f240-4e94-a4c3-584dfdd0cbb1"
      },
      "execution_count": null,
      "outputs": [
        {
          "output_type": "stream",
          "name": "stdout",
          "text": [
            "<dtype: 'int32'>\n"
          ]
        }
      ]
    },
    {
      "cell_type": "code",
      "source": [
        "print(x.numpy())"
      ],
      "metadata": {
        "colab": {
          "base_uri": "https://localhost:8080/"
        },
        "id": "2skUAnKFzVjs",
        "outputId": "456f6d14-ec5c-46ab-d4e8-cfd0fff034ce"
      },
      "execution_count": null,
      "outputs": [
        {
          "output_type": "stream",
          "name": "stdout",
          "text": [
            "[[1 2 3]\n",
            " [4 5 6]]\n"
          ]
        }
      ]
    },
    {
      "cell_type": "code",
      "source": [
        "# variable\n",
        "var = tf.Variable([0.0,0.0,0.0])\n",
        "var.assign([1,2,3])\n",
        "print(var)\n",
        "var.assign_add([1,1,1])\n",
        "print(var)\n",
        "print(var.numpy())"
      ],
      "metadata": {
        "colab": {
          "base_uri": "https://localhost:8080/"
        },
        "id": "96YEsyGv4YIJ",
        "outputId": "f1220708-c58d-4372-c1b5-fc93abba5c05"
      },
      "execution_count": null,
      "outputs": [
        {
          "output_type": "stream",
          "name": "stdout",
          "text": [
            "<tf.Variable 'Variable:0' shape=(3,) dtype=float32, numpy=array([1., 2., 3.], dtype=float32)>\n",
            "<tf.Variable 'Variable:0' shape=(3,) dtype=float32, numpy=array([2., 3., 4.], dtype=float32)>\n",
            "[2. 3. 4.]\n"
          ]
        }
      ]
    },
    {
      "cell_type": "code",
      "source": [
        "A = tf.constant([[3,4,5], [1,2,3]])\n",
        "B = tf.Variable([[1,1,1], [2,3,4]])\n",
        "AB_conc_col = tf.concat([A,B],axis=1)\n",
        "print(AB_conc_col.numpy())"
      ],
      "metadata": {
        "colab": {
          "base_uri": "https://localhost:8080/"
        },
        "id": "FsXUd1OFzX4A",
        "outputId": "d6ee62fb-5f8f-4c7c-9f75-568975c44fc2"
      },
      "execution_count": null,
      "outputs": [
        {
          "output_type": "stream",
          "name": "stdout",
          "text": [
            "[[3 4 5 1 1 1]\n",
            " [1 2 3 2 3 4]]\n"
          ]
        }
      ]
    },
    {
      "cell_type": "code",
      "source": [
        "# Concatenation on rows\n",
        "A = tf.constant([[3,4,5],[1,2,3]])\n",
        "B = tf.Variable([[1,1,1],[2,3,4]])\n",
        "AB_conc_row = tf.concat([A,B],axis=0)\n",
        "print(AB_conc_row.numpy())"
      ],
      "metadata": {
        "colab": {
          "base_uri": "https://localhost:8080/"
        },
        "id": "I2soRZT64KD8",
        "outputId": "756c584a-73b4-471a-d994-f9343c1ca177"
      },
      "execution_count": null,
      "outputs": [
        {
          "output_type": "stream",
          "name": "stdout",
          "text": [
            "[[3 4 5]\n",
            " [1 2 3]\n",
            " [1 1 1]\n",
            " [2 3 4]]\n"
          ]
        }
      ]
    },
    {
      "cell_type": "code",
      "source": [
        "t1 = tf.reshape(AB_conc_row, shape = [1,12])\n",
        "print(t1.numpy())"
      ],
      "metadata": {
        "colab": {
          "base_uri": "https://localhost:8080/"
        },
        "id": "1xgg-OcS5G4E",
        "outputId": "0df4c429-7338-4f5c-f761-d2a0f60e8e15"
      },
      "execution_count": null,
      "outputs": [
        {
          "output_type": "stream",
          "name": "stdout",
          "text": [
            "[[3 4 5 1 2 3 1 1 1 2 3 4]]\n"
          ]
        }
      ]
    },
    {
      "cell_type": "code",
      "source": [
        "# Operations\n",
        "a = tf.constant(2.0)\n",
        "b = tf.constant(3.5)\n",
        "c = tf.constant(5.6)"
      ],
      "metadata": {
        "id": "J80ZNRq55Q88"
      },
      "execution_count": null,
      "outputs": []
    },
    {
      "cell_type": "code",
      "source": [
        "add = tf.add(tf.add(a,b),c)\n",
        "print(add.numpy())"
      ],
      "metadata": {
        "colab": {
          "base_uri": "https://localhost:8080/"
        },
        "id": "7NEGIASs5bej",
        "outputId": "d400ba0d-8554-4fbe-f37e-c7672684c5cc"
      },
      "execution_count": null,
      "outputs": [
        {
          "output_type": "stream",
          "name": "stdout",
          "text": [
            "11.1\n"
          ]
        }
      ]
    },
    {
      "cell_type": "code",
      "source": [
        "X = tf.constant([[3,4,5],[1,2,3]])\n",
        "Y = tf.constant([[4,5,6],[2,3,34]])\n",
        "add = tf.add(X,Y)"
      ],
      "metadata": {
        "id": "XOsO0f785jjD"
      },
      "execution_count": null,
      "outputs": []
    },
    {
      "cell_type": "code",
      "source": [
        "print(add.numpy())"
      ],
      "metadata": {
        "colab": {
          "base_uri": "https://localhost:8080/"
        },
        "id": "-K9Baosi5wtZ",
        "outputId": "b72d2499-1d75-45e3-eea8-723c038b279d"
      },
      "execution_count": null,
      "outputs": [
        {
          "output_type": "stream",
          "name": "stdout",
          "text": [
            "[[ 7  9 11]\n",
            " [ 3  5 37]]\n"
          ]
        }
      ]
    },
    {
      "cell_type": "code",
      "source": [
        "mul = tf.multiply(X,Y)\n",
        "print(mul.numpy())"
      ],
      "metadata": {
        "colab": {
          "base_uri": "https://localhost:8080/"
        },
        "id": "ZIWBso-h5y-i",
        "outputId": "36226efd-0f95-45b0-a4a0-86f57691d4cc"
      },
      "execution_count": null,
      "outputs": [
        {
          "output_type": "stream",
          "name": "stdout",
          "text": [
            "[[ 12  20  30]\n",
            " [  2   6 102]]\n"
          ]
        }
      ]
    },
    {
      "cell_type": "code",
      "source": [
        "x = tf.constant([[1.,1.],[2.,2.]])\n",
        "a = tf.reduce_mean(x)\n",
        "b = tf.reduce_mean(x,0) #Coloumn mean\n",
        "c = tf.reduce_mean(x,1) #Row mean\n",
        "d = tf.reduce_mean(x, keepdims=True,axis=0)\n",
        "print(a.numpy())\n",
        "print(b.numpy())\n",
        "print(c.numpy())\n",
        "print(d.numpy())"
      ],
      "metadata": {
        "colab": {
          "base_uri": "https://localhost:8080/"
        },
        "id": "6tcSrtAa6TPy",
        "outputId": "51706c25-a5fd-4eb9-f057-ca8b22d6326d"
      },
      "execution_count": null,
      "outputs": [
        {
          "output_type": "stream",
          "name": "stdout",
          "text": [
            "1.5\n",
            "[1.5 1.5]\n",
            "[1. 2.]\n",
            "[[1.5 1.5]]\n"
          ]
        }
      ]
    },
    {
      "cell_type": "code",
      "source": [
        "sum = tf.reduce_sum([X,Y])\n",
        "print(sum.numpy())"
      ],
      "metadata": {
        "colab": {
          "base_uri": "https://localhost:8080/"
        },
        "id": "idiqRmlM68PG",
        "outputId": "365b742c-17ac-4c90-aa04-6afda7003a35"
      },
      "execution_count": null,
      "outputs": [
        {
          "output_type": "stream",
          "name": "stdout",
          "text": [
            "72\n"
          ]
        }
      ]
    },
    {
      "cell_type": "markdown",
      "source": [
        "# Task 2"
      ],
      "metadata": {
        "id": "PX4VOe3x_Dxc"
      }
    },
    {
      "cell_type": "code",
      "source": [
        "A = tf.constant([[2,7],[3,4]])\n",
        "At = tf.transpose(A)\n",
        "print(A.numpy())\n",
        "print(At.numpy())"
      ],
      "metadata": {
        "colab": {
          "base_uri": "https://localhost:8080/"
        },
        "id": "OsPF4hkO79AR",
        "outputId": "9b0859f3-4c12-4b4c-b649-11f174c0a353"
      },
      "execution_count": null,
      "outputs": [
        {
          "output_type": "stream",
          "name": "stdout",
          "text": [
            "[[2 7]\n",
            " [3 4]]\n",
            "[[2 3]\n",
            " [7 4]]\n"
          ]
        }
      ]
    },
    {
      "cell_type": "code",
      "source": [
        "v = tf.constant([[2],[4]])\n",
        "print(v.numpy())"
      ],
      "metadata": {
        "colab": {
          "base_uri": "https://localhost:8080/"
        },
        "id": "PKkuddKUAMhp",
        "outputId": "b9db9906-09a7-45ae-cff8-aa6f64d11686"
      },
      "execution_count": null,
      "outputs": [
        {
          "output_type": "stream",
          "name": "stdout",
          "text": [
            "[[2]\n",
            " [4]]\n"
          ]
        }
      ]
    },
    {
      "cell_type": "code",
      "source": [
        "Av1 = tf.matmul(A,v)\n",
        "print(Av1.numpy())"
      ],
      "metadata": {
        "colab": {
          "base_uri": "https://localhost:8080/"
        },
        "id": "80bcDxJxAfOK",
        "outputId": "2e43b2c5-7967-43f9-bb9e-b2a792819131"
      },
      "execution_count": null,
      "outputs": [
        {
          "output_type": "stream",
          "name": "stdout",
          "text": [
            "[[32]\n",
            " [22]]\n"
          ]
        }
      ]
    },
    {
      "cell_type": "code",
      "source": [
        "Av2 = tf.multiply(A,v)\n",
        "print(Av2.numpy())"
      ],
      "metadata": {
        "colab": {
          "base_uri": "https://localhost:8080/"
        },
        "id": "kKDUhaRqApzr",
        "outputId": "818c249e-2663-4d98-a2f9-8af2a5650a1c"
      },
      "execution_count": null,
      "outputs": [
        {
          "output_type": "stream",
          "name": "stdout",
          "text": [
            "[[ 4 14]\n",
            " [12 16]]\n"
          ]
        }
      ]
    },
    {
      "cell_type": "code",
      "source": [
        "Av2 = tf.cast(Av2, tf.float32)\n",
        "det_A = tf.linalg.det(Av2)\n",
        "det_A"
      ],
      "metadata": {
        "colab": {
          "base_uri": "https://localhost:8080/"
        },
        "id": "6mQ4oC0SB2Sx",
        "outputId": "14eaadc3-7cf0-4d89-bc19-901f6dbb7220"
      },
      "execution_count": null,
      "outputs": [
        {
          "output_type": "execute_result",
          "data": {
            "text/plain": [
              "<tf.Tensor: shape=(), dtype=float32, numpy=-104.000015>"
            ]
          },
          "metadata": {},
          "execution_count": 44
        }
      ]
    },
    {
      "cell_type": "markdown",
      "source": [
        "# Task 3"
      ],
      "metadata": {
        "id": "-L1pH9w_C0HV"
      }
    },
    {
      "cell_type": "code",
      "source": [
        "#Constant\n",
        "x = tf.constant(4.0)\n",
        "with tf.GradientTape() as tape:\n",
        "  tape.watch(x)\n",
        "  y = x**3\n",
        "grad = tape.gradient(y,x)\n",
        "print(grad.numpy())"
      ],
      "metadata": {
        "colab": {
          "base_uri": "https://localhost:8080/"
        },
        "id": "6TNUDShWD4Pn",
        "outputId": "f806f489-f748-4225-9bd5-daedb9a7c995"
      },
      "execution_count": null,
      "outputs": [
        {
          "output_type": "stream",
          "name": "stdout",
          "text": [
            "48.0\n"
          ]
        }
      ]
    },
    {
      "cell_type": "code",
      "source": [
        "#Variable\n",
        "x = tf.Variable(4.0)\n",
        "with tf.GradientTape() as tape:\n",
        "  y = x**3 # f(x)\n",
        "grad = tape.gradient(y,x) # dy/dx\n",
        "print(grad.numpy())"
      ],
      "metadata": {
        "colab": {
          "base_uri": "https://localhost:8080/"
        },
        "id": "ObWAabbrC3qF",
        "outputId": "666f7403-86e3-4556-e76e-be5cd7273e5e"
      },
      "execution_count": null,
      "outputs": [
        {
          "output_type": "stream",
          "name": "stdout",
          "text": [
            "48.0\n"
          ]
        }
      ]
    },
    {
      "cell_type": "code",
      "source": [
        "x = tf.Variable(2.0)\n",
        "with tf.GradientTape() as tape1:\n",
        "  with tf.GradientTape() as tape2:\n",
        "    y = x**3\n",
        "  order1 = tape2.gradient(y,x)\n",
        "order2 = tape1.gradient(order1,x)\n",
        "print(order2.numpy())"
      ],
      "metadata": {
        "colab": {
          "base_uri": "https://localhost:8080/"
        },
        "id": "lPfsYKUBFgk3",
        "outputId": "340f2a3a-23a3-49ca-d9d6-a439901ee96c"
      },
      "execution_count": null,
      "outputs": [
        {
          "output_type": "stream",
          "name": "stdout",
          "text": [
            "12.0\n"
          ]
        }
      ]
    },
    {
      "cell_type": "markdown",
      "source": [
        "#Task 4"
      ],
      "metadata": {
        "id": "HN2KWg5-CsAl"
      }
    },
    {
      "cell_type": "code",
      "source": [
        "W = np.random.randn(4,3)\n",
        "X = np.random.randn(3,1)\n",
        "b = np.random.randn(4,1)"
      ],
      "metadata": {
        "id": "2RLo5WveCmx8"
      },
      "execution_count": null,
      "outputs": []
    },
    {
      "cell_type": "code",
      "source": [
        "WX = tf.matmul(W,X)\n",
        "print(WX.numpy())"
      ],
      "metadata": {
        "colab": {
          "base_uri": "https://localhost:8080/"
        },
        "id": "2B8ZCUTIDMEp",
        "outputId": "4bbfcb62-dbb1-48d1-b72b-123cbfe24ee4"
      },
      "execution_count": null,
      "outputs": [
        {
          "output_type": "stream",
          "name": "stdout",
          "text": [
            "[[-0.38961139]\n",
            " [ 0.24242502]\n",
            " [ 0.94949563]\n",
            " [-0.17464164]]\n"
          ]
        }
      ]
    },
    {
      "cell_type": "code",
      "source": [
        "WX_b = tf.add(WX,b)\n",
        "print(WX_b.numpy())"
      ],
      "metadata": {
        "colab": {
          "base_uri": "https://localhost:8080/"
        },
        "id": "y-Fb45RLDtS9",
        "outputId": "24a2c719-f29b-49f2-d04e-9977c5e94ac3"
      },
      "execution_count": null,
      "outputs": [
        {
          "output_type": "stream",
          "name": "stdout",
          "text": [
            "[[-1.52009576]\n",
            " [ 0.54396558]\n",
            " [ 1.26935395]\n",
            " [-1.62338541]]\n"
          ]
        }
      ]
    },
    {
      "cell_type": "markdown",
      "source": [
        "# Task 5: Compute Gradient of sigmoid function\n",
        "![image.png](data:image/png;base64,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)"
      ],
      "metadata": {
        "id": "1P_PwKPSITQ9"
      }
    },
    {
      "cell_type": "code",
      "source": [
        "import math"
      ],
      "metadata": {
        "id": "6oP_N5L4IV0t"
      },
      "execution_count": null,
      "outputs": []
    },
    {
      "cell_type": "code",
      "source": [
        "x = tf.Variable(4.0)\n",
        "with tf.GradientTape() as tape:\n",
        "  y = 1/(1 + tf.exp(-x))\n",
        "grad = tape.gradient(y,x)\n",
        "print(grad.numpy())"
      ],
      "metadata": {
        "colab": {
          "base_uri": "https://localhost:8080/"
        },
        "id": "siLs_nEXIczR",
        "outputId": "ddddd9a8-4703-49eb-d4a1-7e7a95134c65"
      },
      "execution_count": null,
      "outputs": [
        {
          "output_type": "stream",
          "name": "stdout",
          "text": [
            "0.017662706\n"
          ]
        }
      ]
    },
    {
      "cell_type": "markdown",
      "source": [
        "#Task 6"
      ],
      "metadata": {
        "id": "a_f1Z_SuI_A9"
      }
    },
    {
      "cell_type": "markdown",
      "source": [
        "#Deep Learning Applications in Medical Image Analysis\n",
        "Paper 1:\n",
        "https://ieeexplore.ieee.org/stamp/stamp.jsp?arnumber=8241753\n",
        "\n",
        "#Machine and Deep Learning Applications in Particle Physics\n",
        "Paper 2:\n",
        "https://arxiv.org/pdf/1912.08245.pdf"
      ],
      "metadata": {
        "id": "W9wz9ZwKJA4X"
      }
    }
  ]
}